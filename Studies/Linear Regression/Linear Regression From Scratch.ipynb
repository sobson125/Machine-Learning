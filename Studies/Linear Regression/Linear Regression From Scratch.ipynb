{
 "cells": [
  {
   "cell_type": "markdown",
   "source": [
    "Linear Regression from scratch implementation,\n",
    "I implemented it during machine learning classes lectured by Dr Przemysław Sekuła."
   ],
   "metadata": {
    "collapsed": false
   }
  },
  {
   "cell_type": "code",
   "execution_count": 21,
   "outputs": [],
   "source": [
    "# Importing packages\n",
    "import numpy as np\n",
    "import matplotlib.pyplot as plt\n",
    "%matplotlib inline"
   ],
   "metadata": {
    "collapsed": false,
    "pycharm": {
     "name": "#%%\n"
    }
   }
  },
  {
   "cell_type": "code",
   "execution_count": 22,
   "outputs": [
    {
     "data": {
      "text/plain": "<Figure size 432x288 with 1 Axes>",
      "image/png": "[encoded data removed]"
     },
     "metadata": {
      "needs_background": "light"
     },
     "output_type": "display_data"
    }
   ],
   "source": [
    "#Cell below is responsible for creating random data and makes sure values stay the same\n",
    "\n",
    "def get_x_y(coefs, data_length, noise):\n",
    "\n",
    "    x = np.arange(data_length)\n",
    "    y = np.zeros(x.shape)\n",
    "\n",
    "    for i, c in enumerate(coefs):\n",
    "        y += c * (x**i)\n",
    "    mul = np.max(y) - np.min(y)\n",
    "    y = [yi + mul * (noise * (2 * np.random.rand() - 1)) for yi in y]\n",
    "\n",
    "    return np.asarray(x), np.asarray(y)\n",
    "\n",
    "np.random.seed(12)\n",
    "\n",
    "coefs = [50, 25, -1.25, 0.01]\n",
    "data_length = 80\n",
    "noise = 0.2\n",
    "\n",
    "x, y = get_x_y(coefs, data_length, noise)\n",
    "\n",
    "f = plt.figure()\n",
    "plt.scatter(x, y)\n",
    "plt.title('Your dataset')\n",
    "plt.xlabel('X (inputs)')\n",
    "plt.ylabel('Y (labels / targets)')\n",
    "plt.show()"
   ],
   "metadata": {
    "collapsed": false,
    "pycharm": {
     "name": "#%%\n"
    }
   }
  },
  {
   "cell_type": "markdown",
   "source": [
    "Let's say our function is given with formula:\n",
    "$h(x)  = \\Theta_0 + \\Theta_1 * x$\n"
   ],
   "metadata": {
    "collapsed": false,
    "pycharm": {
     "name": "#%% md\n"
    }
   }
  },
  {
   "cell_type": "code",
   "execution_count": 23,
   "outputs": [],
   "source": [
    "# Function below is responsible for calculating value of hypothesis\n",
    "def compute_h(x, th0, th1):\n",
    "\n",
    "    x = np.asarray(x) # It removes problems with older version of libraries\n",
    "    h = th0 + th1 * x\n",
    "\n",
    "    return h"
   ],
   "metadata": {
    "collapsed": false,
    "pycharm": {
     "name": "#%%\n"
    }
   }
  },
  {
   "cell_type": "code",
   "execution_count": 24,
   "outputs": [],
   "source": [
    "# Function below is responsible for calculating performance metric - in our case cost of the function which is given by formula:"
   ],
   "metadata": {
    "collapsed": false,
    "pycharm": {
     "name": "#%%\n"
    }
   }
  },
  {
   "cell_type": "markdown",
   "source": [
    "$J = \\frac{1}{2m}\\sum_{i=1}^{m}{(y_i - h(x_i))}^2$\n"
   ],
   "metadata": {
    "collapsed": false
   }
  },
  {
   "cell_type": "code",
   "execution_count": 25,
   "outputs": [],
   "source": [
    "def cost(y, predicted_y):\n",
    "    c = np.mean((y - predicted_y)**2) / 2\n",
    "    return c"
   ],
   "metadata": {
    "collapsed": false,
    "pycharm": {
     "name": "#%%\n"
    }
   }
  },
  {
   "cell_type": "code",
   "execution_count": 26,
   "outputs": [],
   "source": [
    "#Function below is responsible for computing partial derivatives. We're using gradient descent algorithm to find minimum of cost function\n",
    "def compute_derivatives(x, y,th0 , th1):\n",
    "\n",
    "    difference_y_h = y - compute_h(x, th0, th1)\n",
    "    dTh0 = -np.mean(difference_y_h)\n",
    "    dTh1 = -np.mean(difference_y_h * x)\n",
    "\n",
    "    return dTh0, dTh1"
   ],
   "metadata": {
    "collapsed": false,
    "pycharm": {
     "name": "#%%\n"
    }
   }
  },
  {
   "cell_type": "code",
   "execution_count": 27,
   "outputs": [],
   "source": [
    "# Function below is responsible for updating our hypothesis parameters during execution of algorithm\n",
    "def update_theta(th0, th1, del0, del1, learning_rate):\n",
    "    th0 = th0 - learning_rate * del0\n",
    "    th1 = th1 - learning_rate * del1\n",
    "\n",
    "    return th0, th1"
   ],
   "metadata": {
    "collapsed": false,
    "pycharm": {
     "name": "#%%\n"
    }
   }
  },
  {
   "cell_type": "code",
   "execution_count": 28,
   "outputs": [
    {
     "name": "stdout",
     "output_type": "stream",
     "text": [
      "Iteration 0, Theta 0: -0.24, Theta 1: -15.90, Cost: 57306.81\n",
      "Iteration 2500, Theta 0: 126.63, Theta 1: -13.24, Cost: 21217.15\n",
      "Iteration 5000, Theta 0: 207.81, Theta 1: -14.77, Cost: 17387.74\n",
      "Iteration 7500, Theta 0: 259.80, Theta 1: -15.75, Cost: 15817.16\n",
      "Iteration 10000, Theta 0: 293.10, Theta 1: -16.38, Cost: 15173.02\n",
      "Iteration 12500, Theta 0: 314.42, Theta 1: -16.78, Cost: 14908.83\n",
      "Iteration 15000, Theta 0: 328.08, Theta 1: -17.04, Cost: 14800.48\n",
      "Iteration 17500, Theta 0: 336.83, Theta 1: -17.21, Cost: 14756.04\n",
      "Iteration 20000, Theta 0: 342.43, Theta 1: -17.31, Cost: 14737.82\n",
      "Iteration 22500, Theta 0: 346.01, Theta 1: -17.38, Cost: 14730.34\n",
      "Iteration 25000, Theta 0: 348.31, Theta 1: -17.42, Cost: 14727.28\n",
      "Iteration 27500, Theta 0: 349.78, Theta 1: -17.45, Cost: 14726.02\n",
      "Iteration 30000, Theta 0: 350.72, Theta 1: -17.47, Cost: 14725.50\n",
      "Iteration 32500, Theta 0: 351.33, Theta 1: -17.48, Cost: 14725.29\n",
      "Iteration 35000, Theta 0: 351.71, Theta 1: -17.49, Cost: 14725.20\n",
      "Iteration 37500, Theta 0: 351.96, Theta 1: -17.49, Cost: 14725.17\n",
      "Iteration 40000, Theta 0: 352.12, Theta 1: -17.49, Cost: 14725.15\n",
      "Iteration 42500, Theta 0: 352.22, Theta 1: -17.50, Cost: 14725.15\n",
      "Iteration 45000, Theta 0: 352.29, Theta 1: -17.50, Cost: 14725.15\n",
      "Iteration 47500, Theta 0: 352.33, Theta 1: -17.50, Cost: 14725.15\n",
      "Iteration 49999, Theta 0: 352.35, Theta 1: -17.50, Cost: 14725.14\n"
     ]
    },
    {
     "data": {
      "text/plain": "<Figure size 432x288 with 1 Axes>",
      "image/png": "[encoded data removed]"
     },
     "metadata": {
      "needs_background": "light"
     },
     "output_type": "display_data"
    }
   ],
   "source": [
    "# Code below presents execution of algorithm\n",
    "# You can experiment with values of 2 variables below.\n",
    "learning_rate = 0.0007\n",
    "epochs = 50000\n",
    "\n",
    "display_every = int(epochs / 20)\n",
    "\n",
    "th0 = 0 #The initial th0 value\n",
    "th1 = 0 #The initial th1 value\n",
    "\n",
    "cost_list = []\n",
    "iter_list = []\n",
    "\n",
    "for i in range(epochs):\n",
    "    #Learning process. With your functions the entire learning code is only 2 lines\n",
    "    del0, del1 = compute_derivatives(x, y, th0, th1)\n",
    "    th0, th1 = update_theta(th0, th1, del0, del1, learning_rate)\n",
    "\n",
    "    #This code is used only for displaying results. You do not need to understand it\n",
    "    if ((i%display_every) == 0) | (i == epochs-1):\n",
    "        curr_cost = cost(y, compute_h(x, th0, th1))\n",
    "        cost_list.append(curr_cost)\n",
    "        iter_list.append(i)\n",
    "        print('Iteration {}, Theta 0: {:.2f}, Theta 1: {:.2f}, Cost: {:.2f}'\n",
    "              .format(i, th0, th1, curr_cost))\n",
    "\n",
    "\n",
    "#This code is used only for displaying results. You do not need to understand it\n",
    "f = plt.figure()\n",
    "plt.plot(iter_list, cost_list)\n",
    "plt.title(\"Cost function\")\n",
    "plt.xlabel('Iteration')\n",
    "plt.ylabel('Cost');"
   ],
   "metadata": {
    "collapsed": false,
    "pycharm": {
     "name": "#%%\n"
    }
   }
  }
 ],
 "metadata": {
  "kernelspec": {
   "name": "machinelearning",
   "language": "python",
   "display_name": "Python (MachineLearning)"
  },
  "language_info": {
   "codemirror_mode": {
    "name": "ipython",
    "version": 2
   },
   "file_extension": ".py",
   "mimetype": "text/x-python",
   "name": "python",
   "nbconvert_exporter": "python",
   "pygments_lexer": "ipython2",
   "version": "2.7.6"
  }
 },
 "nbformat": 4,
 "nbformat_minor": 0
}