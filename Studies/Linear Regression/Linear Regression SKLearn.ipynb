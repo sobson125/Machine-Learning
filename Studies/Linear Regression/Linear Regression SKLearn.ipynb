{
 "cells": [
  {
   "cell_type": "markdown",
   "metadata": {
    "collapsed": true,
    "pycharm": {
     "name": "#%% md\n"
    }
   },
   "source": [
    "Linear regression using Sci-Kit Learn library."
   ]
  },
  {
   "cell_type": "code",
   "execution_count": 1,
   "outputs": [
    {
     "data": {
      "text/plain": "        CRIM    ZN  INDUS  CHAS    NOX     RM   AGE     DIS  RAD    TAX  \\\n0    0.00632  18.0   2.31     0  0.538  6.575  65.2  4.0900    1  296.0   \n1    0.02731   0.0   7.07     0  0.469  6.421  78.9  4.9671    2  242.0   \n2    0.02729   0.0   7.07     0  0.469  7.185  61.1  4.9671    2  242.0   \n3    0.03237   0.0   2.18     0  0.458  6.998  45.8  6.0622    3  222.0   \n4    0.06905   0.0   2.18     0  0.458  7.147  54.2  6.0622    3  222.0   \n..       ...   ...    ...   ...    ...    ...   ...     ...  ...    ...   \n501  0.06263   0.0  11.93     0  0.573  6.593  69.1  2.4786    1  273.0   \n502  0.04527   0.0  11.93     0  0.573  6.120  76.7  2.2875    1  273.0   \n503  0.06076   0.0  11.93     0  0.573  6.976  91.0  2.1675    1  273.0   \n504  0.10959   0.0  11.93     0  0.573  6.794  89.3  2.3889    1  273.0   \n505  0.04741   0.0  11.93     0  0.573  6.030  80.8  2.5050    1  273.0   \n\n     PTRATIO       B  LSTAT  MEDV  \n0       15.3  396.90   4.98  24.0  \n1       17.8  396.90   9.14  21.6  \n2       17.8  392.83   4.03  34.7  \n3       18.7  394.63   2.94  33.4  \n4       18.7  396.90   5.33  36.2  \n..       ...     ...    ...   ...  \n501     21.0  391.99   9.67  22.4  \n502     21.0  396.90   9.08  20.6  \n503     21.0  396.90   5.64  23.9  \n504     21.0  393.45   6.48  22.0  \n505     21.0  396.90   7.88  11.9  \n\n[506 rows x 14 columns]",
      "text/html": "<div>\n<style scoped>\n    .dataframe tbody tr th:only-of-type {\n        vertical-align: middle;\n    }\n\n    .dataframe tbody tr th {\n        vertical-align: top;\n    }\n\n    .dataframe thead th {\n        text-align: right;\n    }\n</style>\n<table border=\"1\" class=\"dataframe\">\n  <thead>\n    <tr style=\"text-align: right;\">\n      <th></th>\n      <th>CRIM</th>\n      <th>ZN</th>\n      <th>INDUS</th>\n      <th>CHAS</th>\n      <th>NOX</th>\n      <th>RM</th>\n      <th>AGE</th>\n      <th>DIS</th>\n      <th>RAD</th>\n      <th>TAX</th>\n      <th>PTRATIO</th>\n      <th>B</th>\n      <th>LSTAT</th>\n      <th>MEDV</th>\n    </tr>\n  </thead>\n  <tbody>\n    <tr>\n      <th>0</th>\n      <td>0.00632</td>\n      <td>18.0</td>\n      <td>2.31</td>\n      <td>0</td>\n      <td>0.538</td>\n      <td>6.575</td>\n      <td>65.2</td>\n      <td>4.0900</td>\n      <td>1</td>\n      <td>296.0</td>\n      <td>15.3</td>\n      <td>396.90</td>\n      <td>4.98</td>\n      <td>24.0</td>\n    </tr>\n    <tr>\n      <th>1</th>\n      <td>0.02731</td>\n      <td>0.0</td>\n      <td>7.07</td>\n      <td>0</td>\n      <td>0.469</td>\n      <td>6.421</td>\n      <td>78.9</td>\n      <td>4.9671</td>\n      <td>2</td>\n      <td>242.0</td>\n      <td>17.8</td>\n      <td>396.90</td>\n      <td>9.14</td>\n      <td>21.6</td>\n    </tr>\n    <tr>\n      <th>2</th>\n      <td>0.02729</td>\n      <td>0.0</td>\n      <td>7.07</td>\n      <td>0</td>\n      <td>0.469</td>\n      <td>7.185</td>\n      <td>61.1</td>\n      <td>4.9671</td>\n      <td>2</td>\n      <td>242.0</td>\n      <td>17.8</td>\n      <td>392.83</td>\n      <td>4.03</td>\n      <td>34.7</td>\n    </tr>\n    <tr>\n      <th>3</th>\n      <td>0.03237</td>\n      <td>0.0</td>\n      <td>2.18</td>\n      <td>0</td>\n      <td>0.458</td>\n      <td>6.998</td>\n      <td>45.8</td>\n      <td>6.0622</td>\n      <td>3</td>\n      <td>222.0</td>\n      <td>18.7</td>\n      <td>394.63</td>\n      <td>2.94</td>\n      <td>33.4</td>\n    </tr>\n    <tr>\n      <th>4</th>\n      <td>0.06905</td>\n      <td>0.0</td>\n      <td>2.18</td>\n      <td>0</td>\n      <td>0.458</td>\n      <td>7.147</td>\n      <td>54.2</td>\n      <td>6.0622</td>\n      <td>3</td>\n      <td>222.0</td>\n      <td>18.7</td>\n      <td>396.90</td>\n      <td>5.33</td>\n      <td>36.2</td>\n    </tr>\n    <tr>\n      <th>...</th>\n      <td>...</td>\n      <td>...</td>\n      <td>...</td>\n      <td>...</td>\n      <td>...</td>\n      <td>...</td>\n      <td>...</td>\n      <td>...</td>\n      <td>...</td>\n      <td>...</td>\n      <td>...</td>\n      <td>...</td>\n      <td>...</td>\n      <td>...</td>\n    </tr>\n    <tr>\n      <th>501</th>\n      <td>0.06263</td>\n      <td>0.0</td>\n      <td>11.93</td>\n      <td>0</td>\n      <td>0.573</td>\n      <td>6.593</td>\n      <td>69.1</td>\n      <td>2.4786</td>\n      <td>1</td>\n      <td>273.0</td>\n      <td>21.0</td>\n      <td>391.99</td>\n      <td>9.67</td>\n      <td>22.4</td>\n    </tr>\n    <tr>\n      <th>502</th>\n      <td>0.04527</td>\n      <td>0.0</td>\n      <td>11.93</td>\n      <td>0</td>\n      <td>0.573</td>\n      <td>6.120</td>\n      <td>76.7</td>\n      <td>2.2875</td>\n      <td>1</td>\n      <td>273.0</td>\n      <td>21.0</td>\n      <td>396.90</td>\n      <td>9.08</td>\n      <td>20.6</td>\n    </tr>\n    <tr>\n      <th>503</th>\n      <td>0.06076</td>\n      <td>0.0</td>\n      <td>11.93</td>\n      <td>0</td>\n      <td>0.573</td>\n      <td>6.976</td>\n      <td>91.0</td>\n      <td>2.1675</td>\n      <td>1</td>\n      <td>273.0</td>\n      <td>21.0</td>\n      <td>396.90</td>\n      <td>5.64</td>\n      <td>23.9</td>\n    </tr>\n    <tr>\n      <th>504</th>\n      <td>0.10959</td>\n      <td>0.0</td>\n      <td>11.93</td>\n      <td>0</td>\n      <td>0.573</td>\n      <td>6.794</td>\n      <td>89.3</td>\n      <td>2.3889</td>\n      <td>1</td>\n      <td>273.0</td>\n      <td>21.0</td>\n      <td>393.45</td>\n      <td>6.48</td>\n      <td>22.0</td>\n    </tr>\n    <tr>\n      <th>505</th>\n      <td>0.04741</td>\n      <td>0.0</td>\n      <td>11.93</td>\n      <td>0</td>\n      <td>0.573</td>\n      <td>6.030</td>\n      <td>80.8</td>\n      <td>2.5050</td>\n      <td>1</td>\n      <td>273.0</td>\n      <td>21.0</td>\n      <td>396.90</td>\n      <td>7.88</td>\n      <td>11.9</td>\n    </tr>\n  </tbody>\n</table>\n<p>506 rows × 14 columns</p>\n</div>"
     },
     "execution_count": 1,
     "metadata": {},
     "output_type": "execute_result"
    }
   ],
   "source": [
    "import pandas as pd\n",
    "import numpy as np\n",
    "housing_df = pd.read_csv(\"../data/housing.csv\")\n",
    "housing_df"
   ],
   "metadata": {
    "collapsed": false,
    "pycharm": {
     "name": "#%%\n"
    }
   }
  },
  {
   "cell_type": "code",
   "execution_count": 2,
   "outputs": [
    {
     "data": {
      "text/plain": "      CRIM    TAX     RM\n0  0.00632  296.0  6.575\n1  0.02731  242.0  6.421\n2  0.02729  242.0  7.185\n3  0.03237  222.0  6.998\n4  0.06905  222.0  7.147",
      "text/html": "<div>\n<style scoped>\n    .dataframe tbody tr th:only-of-type {\n        vertical-align: middle;\n    }\n\n    .dataframe tbody tr th {\n        vertical-align: top;\n    }\n\n    .dataframe thead th {\n        text-align: right;\n    }\n</style>\n<table border=\"1\" class=\"dataframe\">\n  <thead>\n    <tr style=\"text-align: right;\">\n      <th></th>\n      <th>CRIM</th>\n      <th>TAX</th>\n      <th>RM</th>\n    </tr>\n  </thead>\n  <tbody>\n    <tr>\n      <th>0</th>\n      <td>0.00632</td>\n      <td>296.0</td>\n      <td>6.575</td>\n    </tr>\n    <tr>\n      <th>1</th>\n      <td>0.02731</td>\n      <td>242.0</td>\n      <td>6.421</td>\n    </tr>\n    <tr>\n      <th>2</th>\n      <td>0.02729</td>\n      <td>242.0</td>\n      <td>7.185</td>\n    </tr>\n    <tr>\n      <th>3</th>\n      <td>0.03237</td>\n      <td>222.0</td>\n      <td>6.998</td>\n    </tr>\n    <tr>\n      <th>4</th>\n      <td>0.06905</td>\n      <td>222.0</td>\n      <td>7.147</td>\n    </tr>\n  </tbody>\n</table>\n</div>"
     },
     "execution_count": 2,
     "metadata": {},
     "output_type": "execute_result"
    }
   ],
   "source": [
    "x_rows = housing_df[['CRIM', 'TAX', 'RM']]\n",
    "x_rows.head()\n"
   ],
   "metadata": {
    "collapsed": false,
    "pycharm": {
     "name": "#%%\n"
    }
   }
  },
  {
   "cell_type": "code",
   "execution_count": 3,
   "outputs": [
    {
     "data": {
      "text/plain": "0    24.0\n1    21.6\n2    34.7\n3    33.4\n4    36.2\nName: MEDV, dtype: float64"
     },
     "execution_count": 3,
     "metadata": {},
     "output_type": "execute_result"
    }
   ],
   "source": [
    "y_labels = housing_df[\"MEDV\"]\n",
    "y_labels.head()"
   ],
   "metadata": {
    "collapsed": false,
    "pycharm": {
     "name": "#%%\n"
    }
   }
  },
  {
   "cell_type": "code",
   "execution_count": 4,
   "outputs": [
    {
     "data": {
      "text/plain": "        CRIM    TAX     RM\n13   0.62976  307.0  5.949\n61   0.17171  284.0  5.966\n377  9.82349  666.0  6.794\n39   0.02763  252.0  6.595\n365  4.55587  666.0  3.561\n..       ...    ...    ...\n255  0.03548  315.0  5.876\n72   0.09164  305.0  6.065\n396  5.87205  666.0  6.405\n235  0.33045  307.0  6.086\n37   0.08014  279.0  5.850\n\n[354 rows x 3 columns]",
      "text/html": "<div>\n<style scoped>\n    .dataframe tbody tr th:only-of-type {\n        vertical-align: middle;\n    }\n\n    .dataframe tbody tr th {\n        vertical-align: top;\n    }\n\n    .dataframe thead th {\n        text-align: right;\n    }\n</style>\n<table border=\"1\" class=\"dataframe\">\n  <thead>\n    <tr style=\"text-align: right;\">\n      <th></th>\n      <th>CRIM</th>\n      <th>TAX</th>\n      <th>RM</th>\n    </tr>\n  </thead>\n  <tbody>\n    <tr>\n      <th>13</th>\n      <td>0.62976</td>\n      <td>307.0</td>\n      <td>5.949</td>\n    </tr>\n    <tr>\n      <th>61</th>\n      <td>0.17171</td>\n      <td>284.0</td>\n      <td>5.966</td>\n    </tr>\n    <tr>\n      <th>377</th>\n      <td>9.82349</td>\n      <td>666.0</td>\n      <td>6.794</td>\n    </tr>\n    <tr>\n      <th>39</th>\n      <td>0.02763</td>\n      <td>252.0</td>\n      <td>6.595</td>\n    </tr>\n    <tr>\n      <th>365</th>\n      <td>4.55587</td>\n      <td>666.0</td>\n      <td>3.561</td>\n    </tr>\n    <tr>\n      <th>...</th>\n      <td>...</td>\n      <td>...</td>\n      <td>...</td>\n    </tr>\n    <tr>\n      <th>255</th>\n      <td>0.03548</td>\n      <td>315.0</td>\n      <td>5.876</td>\n    </tr>\n    <tr>\n      <th>72</th>\n      <td>0.09164</td>\n      <td>305.0</td>\n      <td>6.065</td>\n    </tr>\n    <tr>\n      <th>396</th>\n      <td>5.87205</td>\n      <td>666.0</td>\n      <td>6.405</td>\n    </tr>\n    <tr>\n      <th>235</th>\n      <td>0.33045</td>\n      <td>307.0</td>\n      <td>6.086</td>\n    </tr>\n    <tr>\n      <th>37</th>\n      <td>0.08014</td>\n      <td>279.0</td>\n      <td>5.850</td>\n    </tr>\n  </tbody>\n</table>\n<p>354 rows × 3 columns</p>\n</div>"
     },
     "execution_count": 4,
     "metadata": {},
     "output_type": "execute_result"
    }
   ],
   "source": [
    "from sklearn.model_selection import train_test_split\n",
    "\n",
    "x_train, x_test, y_train, y_test = train_test_split(x_rows, y_labels, test_size=0.3, random_state=1)\n",
    "x_train\n"
   ],
   "metadata": {
    "collapsed": false,
    "pycharm": {
     "name": "#%%\n"
    }
   }
  },
  {
   "cell_type": "code",
   "execution_count": 5,
   "outputs": [
    {
     "data": {
      "text/plain": "        CRIM    TAX     RM\n307  0.04932  222.0  6.849\n343  0.02543  370.0  6.696\n47   0.22927  233.0  6.030\n67   0.05789  345.0  5.878\n362  3.67822  666.0  5.362\n..       ...    ...    ...\n467  4.42228  666.0  6.003\n95   0.12204  276.0  6.625\n122  0.09299  188.0  5.961\n260  0.54011  264.0  7.203\n23   0.98843  307.0  5.813\n\n[152 rows x 3 columns]",
      "text/html": "<div>\n<style scoped>\n    .dataframe tbody tr th:only-of-type {\n        vertical-align: middle;\n    }\n\n    .dataframe tbody tr th {\n        vertical-align: top;\n    }\n\n    .dataframe thead th {\n        text-align: right;\n    }\n</style>\n<table border=\"1\" class=\"dataframe\">\n  <thead>\n    <tr style=\"text-align: right;\">\n      <th></th>\n      <th>CRIM</th>\n      <th>TAX</th>\n      <th>RM</th>\n    </tr>\n  </thead>\n  <tbody>\n    <tr>\n      <th>307</th>\n      <td>0.04932</td>\n      <td>222.0</td>\n      <td>6.849</td>\n    </tr>\n    <tr>\n      <th>343</th>\n      <td>0.02543</td>\n      <td>370.0</td>\n      <td>6.696</td>\n    </tr>\n    <tr>\n      <th>47</th>\n      <td>0.22927</td>\n      <td>233.0</td>\n      <td>6.030</td>\n    </tr>\n    <tr>\n      <th>67</th>\n      <td>0.05789</td>\n      <td>345.0</td>\n      <td>5.878</td>\n    </tr>\n    <tr>\n      <th>362</th>\n      <td>3.67822</td>\n      <td>666.0</td>\n      <td>5.362</td>\n    </tr>\n    <tr>\n      <th>...</th>\n      <td>...</td>\n      <td>...</td>\n      <td>...</td>\n    </tr>\n    <tr>\n      <th>467</th>\n      <td>4.42228</td>\n      <td>666.0</td>\n      <td>6.003</td>\n    </tr>\n    <tr>\n      <th>95</th>\n      <td>0.12204</td>\n      <td>276.0</td>\n      <td>6.625</td>\n    </tr>\n    <tr>\n      <th>122</th>\n      <td>0.09299</td>\n      <td>188.0</td>\n      <td>5.961</td>\n    </tr>\n    <tr>\n      <th>260</th>\n      <td>0.54011</td>\n      <td>264.0</td>\n      <td>7.203</td>\n    </tr>\n    <tr>\n      <th>23</th>\n      <td>0.98843</td>\n      <td>307.0</td>\n      <td>5.813</td>\n    </tr>\n  </tbody>\n</table>\n<p>152 rows × 3 columns</p>\n</div>"
     },
     "execution_count": 5,
     "metadata": {},
     "output_type": "execute_result"
    }
   ],
   "source": [
    "x_test\n"
   ],
   "metadata": {
    "collapsed": false,
    "pycharm": {
     "name": "#%%\n"
    }
   }
  },
  {
   "cell_type": "code",
   "execution_count": 6,
   "outputs": [
    {
     "data": {
      "text/plain": "LinearRegression()"
     },
     "execution_count": 6,
     "metadata": {},
     "output_type": "execute_result"
    }
   ],
   "source": [
    "from sklearn.linear_model import LinearRegression\n",
    "model = LinearRegression()\n",
    "model.fit(x_train, y_train)"
   ],
   "metadata": {
    "collapsed": false,
    "pycharm": {
     "name": "#%%\n"
    }
   }
  },
  {
   "cell_type": "code",
   "execution_count": 7,
   "outputs": [
    {
     "name": "stdout",
     "output_type": "stream",
     "text": [
      "Score of how good model predicts training set is equal to 0.5096603576929334\n",
      "Score of how good model predicts testing set is equal to 0.6901893330926419\n"
     ]
    }
   ],
   "source": [
    "print(f\"Score of how good model predicts training set is equal to {model.score(x_train,y_train)}\")\n",
    "print(f\"Score of how good model predicts testing set is equal to {model.score(x_test,y_test)}\")"
   ],
   "metadata": {
    "collapsed": false,
    "pycharm": {
     "name": "#%%\n"
    }
   }
  },
  {
   "cell_type": "code",
   "execution_count": 25,
   "outputs": [],
   "source": [
    "def calculate_MAPE(model, x,y):\n",
    "    y_predicted = model.predict(x)\n",
    "    return 100 * np.mean(np.abs((y - y_predicted) / y))\n"
   ],
   "metadata": {
    "collapsed": false,
    "pycharm": {
     "name": "#%%\n"
    }
   }
  },
  {
   "cell_type": "code",
   "execution_count": 27,
   "outputs": [
    {
     "name": "stdout",
     "output_type": "stream",
     "text": [
      "Mape value for training set is 21.552%\n",
      "Mape value for training set is 20.784%\n"
     ]
    }
   ],
   "source": [
    "print(\"Mape value for training set is {:.3f}%\".format(calculate_MAPE(model,x_train,y_train)))\n",
    "print(\"Mape value for testing set is {:.3f}%\".format(calculate_MAPE(model,x_test,y_test)))"
   ],
   "metadata": {
    "collapsed": false,
    "pycharm": {
     "name": "#%%\n"
    }
   }
  },
  {
   "cell_type": "markdown",
   "source": [
    "Since margin error in example above is pretty high ~ 20 % then  we'll try to use Random forest regressor\n"
   ],
   "metadata": {
    "collapsed": false,
    "pycharm": {
     "name": "#%% md\n"
    }
   }
  },
  {
   "cell_type": "code",
   "execution_count": 32,
   "outputs": [
    {
     "name": "stdout",
     "output_type": "stream",
     "text": [
      "Mape value for training set is 7.331%\n",
      "Mape value for testing set is 16.732%\n",
      "Mape value for training set is 17.274%\n",
      "Mape value for testing set is 18.947%\n"
     ]
    }
   ],
   "source": [
    "from sklearn.ensemble import RandomForestRegressor\n",
    "model = RandomForestRegressor()\n",
    "model.fit(x_train,y_train)\n",
    "print(\"Mape value for training set is {:.3f}%\".format(calculate_MAPE(model,x_train,y_train)))\n",
    "print(\"Mape value for testing set is {:.3f}%\".format(calculate_MAPE(model,x_test,y_test)))\n",
    "\n",
    "# Training set mape is way lower, that means we've overfed our model. To avoid that we can change min_samples_leaf parameter in Random Forest Regressor\n",
    "\n",
    "model = RandomForestRegressor(min_samples_leaf=15)\n",
    "model.fit(x_train,y_train)\n",
    "print(\"Mape value for training set is {:.3f}%\".format(calculate_MAPE(model,x_train,y_train)))\n",
    "print(\"Mape value for testing set is {:.3f}%\".format(calculate_MAPE(model,x_test,y_test)))"
   ],
   "metadata": {
    "collapsed": false,
    "pycharm": {
     "name": "#%%\n"
    }
   }
  }
 ],
 "metadata": {
  "kernelspec": {
   "name": "machinelearning",
   "language": "python",
   "display_name": "Python (MachineLearning)"
  },
  "language_info": {
   "codemirror_mode": {
    "name": "ipython",
    "version": 2
   },
   "file_extension": ".py",
   "mimetype": "text/x-python",
   "name": "python",
   "nbconvert_exporter": "python",
   "pygments_lexer": "ipython2",
   "version": "2.7.6"
  }
 },
 "nbformat": 4,
 "nbformat_minor": 0
}