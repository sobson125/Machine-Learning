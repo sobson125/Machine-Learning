{
 "cells": [
  {
   "cell_type": "markdown",
   "metadata": {},
   "source": [
    "# Census Income\n",
    "This is a Sci-Kit Learn + Pandas example of classification problem. The dataset comes from http://archive.ics.uci.edu/. \n",
    "\n",
    "Data extraction was done by Barry Becker from the 1994 Census database. A set of reasonably clean records was extracted using the following conditions: ((AAGE>16) && (AGI>100) && (AFNLWGT>1)&& (HRSWK>0)). The data was also preprocessed for the purpose of this example.\n",
    "\n",
    "Prediction task is to determine whether a person makes over 50K a year.\n",
    "\n",
    "\n",
    "### List of attributes:\n",
    "\n",
    "##### Features\n",
    "- age: continuous. \n",
    "- workclass: Private, Self-emp-not-inc, Self-emp-inc, Federal-gov, Local-gov, State-gov, Without-pay, Never-worked. \n",
    "- education: Bachelors, Some-college, 11th, HS-grad, Prof-school, Assoc-acdm, Assoc-voc, 9th, 7th-8th, 12th, Masters, 1st-4th, - 10th, Doctorate, 5th-6th, Preschool. \n",
    "- education-num: continuous. \n",
    "- marital-status: Married-civ-spouse, Divorced, Never-married, Separated, Widowed, Married-spouse-absent, Married-AF-spouse. \n",
    "- occupation: Tech-support, Craft-repair, Other-service, Sales, Exec-managerial, Prof-specialty, Handlers-cleaners, Machine-op-inspct, Adm-clerical, Farming-fishing, Transport-moving, Priv-house-serv, Protective-serv, Armed-Forces. \n",
    "- relationship: Wife, Own-child, Husband, Not-in-family, Other-relative, Unmarried. \n",
    "- race: White, Asian-Pac-Islander, Amer-Indian-Eskimo, Other, Black. \n",
    "- sex: Female, Male. \n",
    "- hours-per-week: continuous. \n",
    "- native-country: United-States, Cambodia, England, Puerto-Rico, Canada, Germany, Outlying-US(Guam-USVI-etc), India, Japan, Greece, South, China, Cuba, Iran, Honduras, Philippines, Italy, Poland, Jamaica, Vietnam, Mexico, Portugal, Ireland, France, Dominican-Republic, Laos, Ecuador, Taiwan, Haiti, Columbia, Hungary, Guatemala, Nicaragua, Scotland, Thailand, Yugoslavia, El-Salvador, Trinadad&Tobago, Peru, Hong, Holand-Netherlands.\n",
    "\n",
    "\n",
    "\n",
    "##### Labels\n",
    "- income - >50K, <=50K. "
   ]
  },
  {
   "cell_type": "code",
   "execution_count": 1,
   "metadata": {},
   "outputs": [],
   "source": [
    "import pandas as pd\n",
    "import numpy as np\n",
    "\n"
   ]
  },
  {
   "cell_type": "markdown",
   "metadata": {},
   "source": [
    "### Load dataset"
   ]
  },
  {
   "cell_type": "code",
   "execution_count": 2,
   "metadata": {},
   "outputs": [
    {
     "name": "stdout",
     "output_type": "stream",
     "text": [
      "(32561, 12)\n",
      "Index(['age', 'workclass', 'education', 'education-num', 'marital-status',\n",
      "       'occupation', 'relationship', 'race', 'sex', 'hours-per-week',\n",
      "       'native-country', 'income'],\n",
      "      dtype='object')\n"
     ]
    },
    {
     "data": {
      "text/plain": "   age         workclass  education  education-num      marital-status  \\\n0   39         State-gov  Bachelors             13       Never-married   \n1   50  Self-emp-not-inc  Bachelors             13  Married-civ-spouse   \n2   38           Private    HS-grad              9            Divorced   \n3   53           Private       11th              7  Married-civ-spouse   \n4   28           Private  Bachelors             13  Married-civ-spouse   \n\n          occupation   relationship   race     sex  hours-per-week  \\\n0       Adm-clerical  Not-in-family  White    Male              40   \n1    Exec-managerial        Husband  White    Male              13   \n2  Handlers-cleaners  Not-in-family  White    Male              40   \n3  Handlers-cleaners        Husband  Black    Male              40   \n4     Prof-specialty           Wife  Black  Female              40   \n\n  native-country income  \n0  United-States  <=50K  \n1  United-States  <=50K  \n2  United-States  <=50K  \n3  United-States  <=50K  \n4           Cuba  <=50K  ",
      "text/html": "<div>\n<style scoped>\n    .dataframe tbody tr th:only-of-type {\n        vertical-align: middle;\n    }\n\n    .dataframe tbody tr th {\n        vertical-align: top;\n    }\n\n    .dataframe thead th {\n        text-align: right;\n    }\n</style>\n<table border=\"1\" class=\"dataframe\">\n  <thead>\n    <tr style=\"text-align: right;\">\n      <th></th>\n      <th>age</th>\n      <th>workclass</th>\n      <th>education</th>\n      <th>education-num</th>\n      <th>marital-status</th>\n      <th>occupation</th>\n      <th>relationship</th>\n      <th>race</th>\n      <th>sex</th>\n      <th>hours-per-week</th>\n      <th>native-country</th>\n      <th>income</th>\n    </tr>\n  </thead>\n  <tbody>\n    <tr>\n      <th>0</th>\n      <td>39</td>\n      <td>State-gov</td>\n      <td>Bachelors</td>\n      <td>13</td>\n      <td>Never-married</td>\n      <td>Adm-clerical</td>\n      <td>Not-in-family</td>\n      <td>White</td>\n      <td>Male</td>\n      <td>40</td>\n      <td>United-States</td>\n      <td>&lt;=50K</td>\n    </tr>\n    <tr>\n      <th>1</th>\n      <td>50</td>\n      <td>Self-emp-not-inc</td>\n      <td>Bachelors</td>\n      <td>13</td>\n      <td>Married-civ-spouse</td>\n      <td>Exec-managerial</td>\n      <td>Husband</td>\n      <td>White</td>\n      <td>Male</td>\n      <td>13</td>\n      <td>United-States</td>\n      <td>&lt;=50K</td>\n    </tr>\n    <tr>\n      <th>2</th>\n      <td>38</td>\n      <td>Private</td>\n      <td>HS-grad</td>\n      <td>9</td>\n      <td>Divorced</td>\n      <td>Handlers-cleaners</td>\n      <td>Not-in-family</td>\n      <td>White</td>\n      <td>Male</td>\n      <td>40</td>\n      <td>United-States</td>\n      <td>&lt;=50K</td>\n    </tr>\n    <tr>\n      <th>3</th>\n      <td>53</td>\n      <td>Private</td>\n      <td>11th</td>\n      <td>7</td>\n      <td>Married-civ-spouse</td>\n      <td>Handlers-cleaners</td>\n      <td>Husband</td>\n      <td>Black</td>\n      <td>Male</td>\n      <td>40</td>\n      <td>United-States</td>\n      <td>&lt;=50K</td>\n    </tr>\n    <tr>\n      <th>4</th>\n      <td>28</td>\n      <td>Private</td>\n      <td>Bachelors</td>\n      <td>13</td>\n      <td>Married-civ-spouse</td>\n      <td>Prof-specialty</td>\n      <td>Wife</td>\n      <td>Black</td>\n      <td>Female</td>\n      <td>40</td>\n      <td>Cuba</td>\n      <td>&lt;=50K</td>\n    </tr>\n  </tbody>\n</table>\n</div>"
     },
     "execution_count": 2,
     "metadata": {},
     "output_type": "execute_result"
    }
   ],
   "source": [
    "df = pd.read_csv(\"../data/census.csv\")\n",
    "\n",
    "print (df.shape)\n",
    "print (df.columns)\n",
    "df.head()"
   ]
  },
  {
   "cell_type": "markdown",
   "metadata": {},
   "source": [
    "## Task 1 - Initial analysis\n",
    "Perform initial analysis to understand the data."
   ]
  },
  {
   "cell_type": "code",
   "execution_count": 3,
   "metadata": {},
   "outputs": [
    {
     "data": {
      "text/plain": "age               0\nworkclass         0\neducation         0\neducation-num     0\nmarital-status    0\noccupation        0\nrelationship      0\nrace              0\nsex               0\nhours-per-week    0\nnative-country    0\nincome            0\ndtype: int64"
     },
     "execution_count": 3,
     "metadata": {},
     "output_type": "execute_result"
    }
   ],
   "source": [
    "df.isnull().sum()"
   ]
  },
  {
   "cell_type": "code",
   "execution_count": 4,
   "metadata": {},
   "outputs": [
    {
     "data": {
      "text/plain": "<=50K    24720\n>50K      7841\nName: income, dtype: int64"
     },
     "execution_count": 4,
     "metadata": {},
     "output_type": "execute_result"
    }
   ],
   "source": [
    "df.income.value_counts()\n"
   ]
  },
  {
   "cell_type": "code",
   "execution_count": 5,
   "outputs": [
    {
     "name": "stdout",
     "output_type": "stream",
     "text": [
      "age: [39 50 38 53 28 37 49 52 31 42 30 23 32 40 34 25 43 54 35 59 56 19 20 45\n",
      " 22 48 21 24 57 44 41 29 18 47 46 36 79 27 67 33 76 17 55 61 70 64 71 68\n",
      " 66 51 58 26 60 90 75 65 77 62 63 80 72 74 69 73 81 78 88 82 83 84 85 86\n",
      " 87]\n",
      "workclass: ['State-gov' 'Self-emp-not-inc' 'Private' 'Federal-gov' 'Local-gov' '?'\n",
      " 'Self-emp-inc' 'Without-pay' 'Never-worked']\n",
      "education: ['Bachelors' 'HS-grad' '11th' 'Masters' '9th' 'Some-college' 'Assoc-acdm'\n",
      " 'Assoc-voc' '7th-8th' 'Doctorate' 'Prof-school' '5th-6th' '10th'\n",
      " '1st-4th' 'Preschool' '12th']\n",
      "education-num: [13  9  7 14  5 10 12 11  4 16 15  3  6  2  1  8]\n",
      "marital-status: ['Never-married' 'Married-civ-spouse' 'Divorced' 'Married-spouse-absent'\n",
      " 'Separated' 'Married-AF-spouse' 'Widowed']\n",
      "occupation: ['Adm-clerical' 'Exec-managerial' 'Handlers-cleaners' 'Prof-specialty'\n",
      " 'Other-service' 'Sales' 'Craft-repair' 'Transport-moving'\n",
      " 'Farming-fishing' 'Machine-op-inspct' 'Tech-support' '?'\n",
      " 'Protective-serv' 'Armed-Forces' 'Priv-house-serv']\n",
      "relationship: ['Not-in-family' 'Husband' 'Wife' 'Own-child' 'Unmarried' 'Other-relative']\n",
      "race: ['White' 'Black' 'Asian-Pac-Islander' 'Amer-Indian-Eskimo' 'Other']\n",
      "sex: ['Male' 'Female']\n",
      "hours-per-week: [40 13 16 45 50 80 30 35 60 20 52 44 15 25 38 43 55 48 58 32 70  2 22 56\n",
      " 41 28 36 24 46 42 12 65  1 10 34 75 98 33 54  8  6 64 19 18 72  5  9 47\n",
      " 37 21 26 14  4 59  7 99 53 39 62 57 78 90 66 11 49 84  3 17 68 27 85 31\n",
      " 51 77 63 23 87 88 73 89 97 94 29 96 67 82 86 91 81 76 92 61 74 95]\n",
      "native-country: ['United-States' 'Cuba' 'Jamaica' 'India' '?' 'Mexico' 'South'\n",
      " 'Puerto-Rico' 'Honduras' 'England' 'Canada' 'Germany' 'Iran'\n",
      " 'Philippines' 'Italy' 'Poland' 'Columbia' 'Cambodia' 'Thailand' 'Ecuador'\n",
      " 'Laos' 'Taiwan' 'Haiti' 'Portugal' 'Dominican-Republic' 'El-Salvador'\n",
      " 'France' 'Guatemala' 'China' 'Japan' 'Yugoslavia' 'Peru'\n",
      " 'Outlying-US(Guam-USVI-etc)' 'Scotland' 'Trinadad&Tobago' 'Greece'\n",
      " 'Nicaragua' 'Vietnam' 'Hong' 'Ireland' 'Hungary' 'Holand-Netherlands']\n",
      "income: ['<=50K' '>50K']\n"
     ]
    }
   ],
   "source": [
    "for c in df.columns:\n",
    "    print(f\"{c}: {df[c].unique()}\")"
   ],
   "metadata": {
    "collapsed": false,
    "pycharm": {
     "name": "#%%\n"
    }
   }
  },
  {
   "cell_type": "code",
   "execution_count": 6,
   "metadata": {},
   "outputs": [
    {
     "data": {
      "text/plain": "<AxesSubplot:>"
     },
     "execution_count": 6,
     "metadata": {},
     "output_type": "execute_result"
    },
    {
     "data": {
      "text/plain": "<Figure size 432x288 with 2 Axes>",
      "image/png": "[encoded data removed]"
     },
     "metadata": {
      "needs_background": "light"
     },
     "output_type": "display_data"
    }
   ],
   "source": [
    "import seaborn as sns\n",
    "corr = df.corr()\n",
    "sns.heatmap(corr, xticklabels=corr.columns.values, yticklabels=corr.columns.values)\n",
    "\n"
   ]
  },
  {
   "cell_type": "code",
   "execution_count": 6,
   "metadata": {},
   "outputs": [],
   "source": []
  },
  {
   "cell_type": "markdown",
   "metadata": {},
   "source": [
    "## Task 2 - Preparing data\n",
    "- Select features `X` and labels `y`. Make sure that your selection makes sense.\n",
    "- Change the data into a numerical form to let your algorithm (logistic regression) deal with them\n",
    "- Perform One-hot encoding if necessary\n",
    "- Split your data into train and test subsets. Make sure that your split is reasonable. Use `stratify` if you consider it helpful."
   ]
  },
  {
   "cell_type": "code",
   "execution_count": 7,
   "metadata": {},
   "outputs": [
    {
     "data": {
      "text/plain": "       age   education         occupation     sex  hours-per-week  \\\n0       39   Bachelors       Adm-clerical    Male              40   \n1       50   Bachelors    Exec-managerial    Male              13   \n2       38     HS-grad  Handlers-cleaners    Male              40   \n3       53        11th  Handlers-cleaners    Male              40   \n4       28   Bachelors     Prof-specialty  Female              40   \n...    ...         ...                ...     ...             ...   \n32556   27  Assoc-acdm       Tech-support  Female              38   \n32557   40     HS-grad  Machine-op-inspct    Male              40   \n32558   58     HS-grad       Adm-clerical  Female              40   \n32559   22     HS-grad       Adm-clerical    Male              20   \n32560   52     HS-grad    Exec-managerial  Female              40   \n\n        relationship   race  \n0      Not-in-family  White  \n1            Husband  White  \n2      Not-in-family  White  \n3            Husband  Black  \n4               Wife  Black  \n...              ...    ...  \n32556           Wife  White  \n32557        Husband  White  \n32558      Unmarried  White  \n32559      Own-child  White  \n32560           Wife  White  \n\n[32561 rows x 7 columns]",
      "text/html": "<div>\n<style scoped>\n    .dataframe tbody tr th:only-of-type {\n        vertical-align: middle;\n    }\n\n    .dataframe tbody tr th {\n        vertical-align: top;\n    }\n\n    .dataframe thead th {\n        text-align: right;\n    }\n</style>\n<table border=\"1\" class=\"dataframe\">\n  <thead>\n    <tr style=\"text-align: right;\">\n      <th></th>\n      <th>age</th>\n      <th>education</th>\n      <th>occupation</th>\n      <th>sex</th>\n      <th>hours-per-week</th>\n      <th>relationship</th>\n      <th>race</th>\n    </tr>\n  </thead>\n  <tbody>\n    <tr>\n      <th>0</th>\n      <td>39</td>\n      <td>Bachelors</td>\n      <td>Adm-clerical</td>\n      <td>Male</td>\n      <td>40</td>\n      <td>Not-in-family</td>\n      <td>White</td>\n    </tr>\n    <tr>\n      <th>1</th>\n      <td>50</td>\n      <td>Bachelors</td>\n      <td>Exec-managerial</td>\n      <td>Male</td>\n      <td>13</td>\n      <td>Husband</td>\n      <td>White</td>\n    </tr>\n    <tr>\n      <th>2</th>\n      <td>38</td>\n      <td>HS-grad</td>\n      <td>Handlers-cleaners</td>\n      <td>Male</td>\n      <td>40</td>\n      <td>Not-in-family</td>\n      <td>White</td>\n    </tr>\n    <tr>\n      <th>3</th>\n      <td>53</td>\n      <td>11th</td>\n      <td>Handlers-cleaners</td>\n      <td>Male</td>\n      <td>40</td>\n      <td>Husband</td>\n      <td>Black</td>\n    </tr>\n    <tr>\n      <th>4</th>\n      <td>28</td>\n      <td>Bachelors</td>\n      <td>Prof-specialty</td>\n      <td>Female</td>\n      <td>40</td>\n      <td>Wife</td>\n      <td>Black</td>\n    </tr>\n    <tr>\n      <th>...</th>\n      <td>...</td>\n      <td>...</td>\n      <td>...</td>\n      <td>...</td>\n      <td>...</td>\n      <td>...</td>\n      <td>...</td>\n    </tr>\n    <tr>\n      <th>32556</th>\n      <td>27</td>\n      <td>Assoc-acdm</td>\n      <td>Tech-support</td>\n      <td>Female</td>\n      <td>38</td>\n      <td>Wife</td>\n      <td>White</td>\n    </tr>\n    <tr>\n      <th>32557</th>\n      <td>40</td>\n      <td>HS-grad</td>\n      <td>Machine-op-inspct</td>\n      <td>Male</td>\n      <td>40</td>\n      <td>Husband</td>\n      <td>White</td>\n    </tr>\n    <tr>\n      <th>32558</th>\n      <td>58</td>\n      <td>HS-grad</td>\n      <td>Adm-clerical</td>\n      <td>Female</td>\n      <td>40</td>\n      <td>Unmarried</td>\n      <td>White</td>\n    </tr>\n    <tr>\n      <th>32559</th>\n      <td>22</td>\n      <td>HS-grad</td>\n      <td>Adm-clerical</td>\n      <td>Male</td>\n      <td>20</td>\n      <td>Own-child</td>\n      <td>White</td>\n    </tr>\n    <tr>\n      <th>32560</th>\n      <td>52</td>\n      <td>HS-grad</td>\n      <td>Exec-managerial</td>\n      <td>Female</td>\n      <td>40</td>\n      <td>Wife</td>\n      <td>White</td>\n    </tr>\n  </tbody>\n</table>\n<p>32561 rows × 7 columns</p>\n</div>"
     },
     "execution_count": 7,
     "metadata": {},
     "output_type": "execute_result"
    }
   ],
   "source": [
    "X = df[['age', 'education', 'occupation', 'sex', 'hours-per-week', 'relationship', 'race']]\n",
    "X"
   ]
  },
  {
   "cell_type": "code",
   "execution_count": 8,
   "metadata": {},
   "outputs": [
    {
     "data": {
      "text/plain": "0        0\n1        0\n2        0\n3        0\n4        0\n        ..\n32556    0\n32557    1\n32558    0\n32559    0\n32560    1\nName: income, Length: 32561, dtype: int64"
     },
     "execution_count": 8,
     "metadata": {},
     "output_type": "execute_result"
    }
   ],
   "source": [
    "y = df['income']\n",
    "y.replace(\"<=50K\", 0,inplace=True)\n",
    "y.replace(\">50K\", 1,inplace=True)\n",
    "y"
   ]
  },
  {
   "cell_type": "code",
   "execution_count": 9,
   "metadata": {},
   "outputs": [
    {
     "data": {
      "text/plain": "       age  hours-per-week  sex_Female  sex_Male  education_10th  \\\n0       39              40           0         1               0   \n1       50              13           0         1               0   \n2       38              40           0         1               0   \n3       53              40           0         1               0   \n4       28              40           1         0               0   \n...    ...             ...         ...       ...             ...   \n32556   27              38           1         0               0   \n32557   40              40           0         1               0   \n32558   58              40           1         0               0   \n32559   22              20           0         1               0   \n32560   52              40           1         0               0   \n\n       education_11th  education_12th  education_1st-4th  education_5th-6th  \\\n0                   0               0                  0                  0   \n1                   0               0                  0                  0   \n2                   0               0                  0                  0   \n3                   1               0                  0                  0   \n4                   0               0                  0                  0   \n...               ...             ...                ...                ...   \n32556               0               0                  0                  0   \n32557               0               0                  0                  0   \n32558               0               0                  0                  0   \n32559               0               0                  0                  0   \n32560               0               0                  0                  0   \n\n       education_7th-8th  ...  occupation_Farming-fishing  \\\n0                      0  ...                           0   \n1                      0  ...                           0   \n2                      0  ...                           0   \n3                      0  ...                           0   \n4                      0  ...                           0   \n...                  ...  ...                         ...   \n32556                  0  ...                           0   \n32557                  0  ...                           0   \n32558                  0  ...                           0   \n32559                  0  ...                           0   \n32560                  0  ...                           0   \n\n       occupation_Handlers-cleaners  occupation_Machine-op-inspct  \\\n0                                 0                             0   \n1                                 0                             0   \n2                                 1                             0   \n3                                 1                             0   \n4                                 0                             0   \n...                             ...                           ...   \n32556                             0                             0   \n32557                             0                             1   \n32558                             0                             0   \n32559                             0                             0   \n32560                             0                             0   \n\n       occupation_Other-service  occupation_Priv-house-serv  \\\n0                             0                           0   \n1                             0                           0   \n2                             0                           0   \n3                             0                           0   \n4                             0                           0   \n...                         ...                         ...   \n32556                         0                           0   \n32557                         0                           0   \n32558                         0                           0   \n32559                         0                           0   \n32560                         0                           0   \n\n       occupation_Prof-specialty  occupation_Protective-serv  \\\n0                              0                           0   \n1                              0                           0   \n2                              0                           0   \n3                              0                           0   \n4                              1                           0   \n...                          ...                         ...   \n32556                          0                           0   \n32557                          0                           0   \n32558                          0                           0   \n32559                          0                           0   \n32560                          0                           0   \n\n       occupation_Sales  occupation_Tech-support  occupation_Transport-moving  \n0                     0                        0                            0  \n1                     0                        0                            0  \n2                     0                        0                            0  \n3                     0                        0                            0  \n4                     0                        0                            0  \n...                 ...                      ...                          ...  \n32556                 0                        1                            0  \n32557                 0                        0                            0  \n32558                 0                        0                            0  \n32559                 0                        0                            0  \n32560                 0                        0                            0  \n\n[32561 rows x 46 columns]",
      "text/html": "<div>\n<style scoped>\n    .dataframe tbody tr th:only-of-type {\n        vertical-align: middle;\n    }\n\n    .dataframe tbody tr th {\n        vertical-align: top;\n    }\n\n    .dataframe thead th {\n        text-align: right;\n    }\n</style>\n<table border=\"1\" class=\"dataframe\">\n  <thead>\n    <tr style=\"text-align: right;\">\n      <th></th>\n      <th>age</th>\n      <th>hours-per-week</th>\n      <th>sex_Female</th>\n      <th>sex_Male</th>\n      <th>education_10th</th>\n      <th>education_11th</th>\n      <th>education_12th</th>\n      <th>education_1st-4th</th>\n      <th>education_5th-6th</th>\n      <th>education_7th-8th</th>\n      <th>...</th>\n      <th>occupation_Farming-fishing</th>\n      <th>occupation_Handlers-cleaners</th>\n      <th>occupation_Machine-op-inspct</th>\n      <th>occupation_Other-service</th>\n      <th>occupation_Priv-house-serv</th>\n      <th>occupation_Prof-specialty</th>\n      <th>occupation_Protective-serv</th>\n      <th>occupation_Sales</th>\n      <th>occupation_Tech-support</th>\n      <th>occupation_Transport-moving</th>\n    </tr>\n  </thead>\n  <tbody>\n    <tr>\n      <th>0</th>\n      <td>39</td>\n      <td>40</td>\n      <td>0</td>\n      <td>1</td>\n      <td>0</td>\n      <td>0</td>\n      <td>0</td>\n      <td>0</td>\n      <td>0</td>\n      <td>0</td>\n      <td>...</td>\n      <td>0</td>\n      <td>0</td>\n      <td>0</td>\n      <td>0</td>\n      <td>0</td>\n      <td>0</td>\n      <td>0</td>\n      <td>0</td>\n      <td>0</td>\n      <td>0</td>\n    </tr>\n    <tr>\n      <th>1</th>\n      <td>50</td>\n      <td>13</td>\n      <td>0</td>\n      <td>1</td>\n      <td>0</td>\n      <td>0</td>\n      <td>0</td>\n      <td>0</td>\n      <td>0</td>\n      <td>0</td>\n      <td>...</td>\n      <td>0</td>\n      <td>0</td>\n      <td>0</td>\n      <td>0</td>\n      <td>0</td>\n      <td>0</td>\n      <td>0</td>\n      <td>0</td>\n      <td>0</td>\n      <td>0</td>\n    </tr>\n    <tr>\n      <th>2</th>\n      <td>38</td>\n      <td>40</td>\n      <td>0</td>\n      <td>1</td>\n      <td>0</td>\n      <td>0</td>\n      <td>0</td>\n      <td>0</td>\n      <td>0</td>\n      <td>0</td>\n      <td>...</td>\n      <td>0</td>\n      <td>1</td>\n      <td>0</td>\n      <td>0</td>\n      <td>0</td>\n      <td>0</td>\n      <td>0</td>\n      <td>0</td>\n      <td>0</td>\n      <td>0</td>\n    </tr>\n    <tr>\n      <th>3</th>\n      <td>53</td>\n      <td>40</td>\n      <td>0</td>\n      <td>1</td>\n      <td>0</td>\n      <td>1</td>\n      <td>0</td>\n      <td>0</td>\n      <td>0</td>\n      <td>0</td>\n      <td>...</td>\n      <td>0</td>\n      <td>1</td>\n      <td>0</td>\n      <td>0</td>\n      <td>0</td>\n      <td>0</td>\n      <td>0</td>\n      <td>0</td>\n      <td>0</td>\n      <td>0</td>\n    </tr>\n    <tr>\n      <th>4</th>\n      <td>28</td>\n      <td>40</td>\n      <td>1</td>\n      <td>0</td>\n      <td>0</td>\n      <td>0</td>\n      <td>0</td>\n      <td>0</td>\n      <td>0</td>\n      <td>0</td>\n      <td>...</td>\n      <td>0</td>\n      <td>0</td>\n      <td>0</td>\n      <td>0</td>\n      <td>0</td>\n      <td>1</td>\n      <td>0</td>\n      <td>0</td>\n      <td>0</td>\n      <td>0</td>\n    </tr>\n    <tr>\n      <th>...</th>\n      <td>...</td>\n      <td>...</td>\n      <td>...</td>\n      <td>...</td>\n      <td>...</td>\n      <td>...</td>\n      <td>...</td>\n      <td>...</td>\n      <td>...</td>\n      <td>...</td>\n      <td>...</td>\n      <td>...</td>\n      <td>...</td>\n      <td>...</td>\n      <td>...</td>\n      <td>...</td>\n      <td>...</td>\n      <td>...</td>\n      <td>...</td>\n      <td>...</td>\n      <td>...</td>\n    </tr>\n    <tr>\n      <th>32556</th>\n      <td>27</td>\n      <td>38</td>\n      <td>1</td>\n      <td>0</td>\n      <td>0</td>\n      <td>0</td>\n      <td>0</td>\n      <td>0</td>\n      <td>0</td>\n      <td>0</td>\n      <td>...</td>\n      <td>0</td>\n      <td>0</td>\n      <td>0</td>\n      <td>0</td>\n      <td>0</td>\n      <td>0</td>\n      <td>0</td>\n      <td>0</td>\n      <td>1</td>\n      <td>0</td>\n    </tr>\n    <tr>\n      <th>32557</th>\n      <td>40</td>\n      <td>40</td>\n      <td>0</td>\n      <td>1</td>\n      <td>0</td>\n      <td>0</td>\n      <td>0</td>\n      <td>0</td>\n      <td>0</td>\n      <td>0</td>\n      <td>...</td>\n      <td>0</td>\n      <td>0</td>\n      <td>1</td>\n      <td>0</td>\n      <td>0</td>\n      <td>0</td>\n      <td>0</td>\n      <td>0</td>\n      <td>0</td>\n      <td>0</td>\n    </tr>\n    <tr>\n      <th>32558</th>\n      <td>58</td>\n      <td>40</td>\n      <td>1</td>\n      <td>0</td>\n      <td>0</td>\n      <td>0</td>\n      <td>0</td>\n      <td>0</td>\n      <td>0</td>\n      <td>0</td>\n      <td>...</td>\n      <td>0</td>\n      <td>0</td>\n      <td>0</td>\n      <td>0</td>\n      <td>0</td>\n      <td>0</td>\n      <td>0</td>\n      <td>0</td>\n      <td>0</td>\n      <td>0</td>\n    </tr>\n    <tr>\n      <th>32559</th>\n      <td>22</td>\n      <td>20</td>\n      <td>0</td>\n      <td>1</td>\n      <td>0</td>\n      <td>0</td>\n      <td>0</td>\n      <td>0</td>\n      <td>0</td>\n      <td>0</td>\n      <td>...</td>\n      <td>0</td>\n      <td>0</td>\n      <td>0</td>\n      <td>0</td>\n      <td>0</td>\n      <td>0</td>\n      <td>0</td>\n      <td>0</td>\n      <td>0</td>\n      <td>0</td>\n    </tr>\n    <tr>\n      <th>32560</th>\n      <td>52</td>\n      <td>40</td>\n      <td>1</td>\n      <td>0</td>\n      <td>0</td>\n      <td>0</td>\n      <td>0</td>\n      <td>0</td>\n      <td>0</td>\n      <td>0</td>\n      <td>...</td>\n      <td>0</td>\n      <td>0</td>\n      <td>0</td>\n      <td>0</td>\n      <td>0</td>\n      <td>0</td>\n      <td>0</td>\n      <td>0</td>\n      <td>0</td>\n      <td>0</td>\n    </tr>\n  </tbody>\n</table>\n<p>32561 rows × 46 columns</p>\n</div>"
     },
     "execution_count": 9,
     "metadata": {},
     "output_type": "execute_result"
    }
   ],
   "source": [
    "X = pd.get_dummies(X,columns=['sex', 'education', 'race', 'relationship','occupation'])\n",
    "X"
   ]
  },
  {
   "cell_type": "code",
   "execution_count": 10,
   "metadata": {},
   "outputs": [],
   "source": [
    "from sklearn.model_selection import train_test_split\n",
    "X_train, X_test, y_train, y_test = train_test_split(X,y, test_size=0.3, stratify=y, random_state=10)\n"
   ]
  },
  {
   "cell_type": "code",
   "execution_count": 11,
   "metadata": {},
   "outputs": [],
   "source": [
    "from sklearn import preprocessing\n"
   ]
  },
  {
   "cell_type": "code",
   "execution_count": 12,
   "metadata": {},
   "outputs": [],
   "source": [
    "# X_train_scaled = preprocessing.scale(X_train)\n",
    "# X_test_scaled = preprocessing.scale(X_test)"
   ]
  },
  {
   "cell_type": "code",
   "execution_count": 12,
   "metadata": {},
   "outputs": [],
   "source": []
  },
  {
   "cell_type": "code",
   "execution_count": 12,
   "metadata": {},
   "outputs": [],
   "source": []
  },
  {
   "cell_type": "code",
   "execution_count": 12,
   "metadata": {},
   "outputs": [],
   "source": []
  },
  {
   "cell_type": "markdown",
   "metadata": {},
   "source": [
    "## Task 4 - Logistic Regression\n",
    "Train and test a logistic regression model. If you want to get a maximum score you must be sure that your model:\n",
    "- Do not overfit\n",
    "- Do not underfit\n",
    "- Achieves at least 80% accuracy on the test subset."
   ]
  },
  {
   "cell_type": "code",
   "execution_count": 13,
   "metadata": {},
   "outputs": [],
   "source": [
    "from sklearn.linear_model import LogisticRegression\n",
    "model = LogisticRegression(max_iter=2500)"
   ]
  },
  {
   "cell_type": "code",
   "execution_count": 14,
   "metadata": {},
   "outputs": [
    {
     "data": {
      "text/plain": "LogisticRegression(max_iter=2500)"
     },
     "execution_count": 14,
     "metadata": {},
     "output_type": "execute_result"
    }
   ],
   "source": [
    "model.fit(X_train,y_train)\n"
   ]
  },
  {
   "cell_type": "code",
   "execution_count": 15,
   "metadata": {},
   "outputs": [
    {
     "name": "stdout",
     "output_type": "stream",
     "text": [
      "Train model:  83.1914706914707\n",
      "Test model:  83.41693110860886\n"
     ]
    }
   ],
   "source": [
    "print(\"Train model: \", model.score(X_train, y_train)*100)\n",
    "print(\"Test model: \", model.score(X_test, y_test)*100)\n"
   ]
  },
  {
   "cell_type": "code",
   "execution_count": 15,
   "metadata": {},
   "outputs": [],
   "source": []
  },
  {
   "cell_type": "markdown",
   "metadata": {},
   "source": [
    "## Task 5 - Precision and recall\n",
    "- Compute precision and recall for your model, for both, train and test subsets.\n",
    "- Make sure that you understand these metrics, you may be asked to explain the meaning of it."
   ]
  },
  {
   "cell_type": "code",
   "execution_count": 16,
   "metadata": {},
   "outputs": [],
   "source": [
    "from sklearn.metrics import recall_score, precision_score, classification_report"
   ]
  },
  {
   "cell_type": "code",
   "execution_count": 17,
   "metadata": {},
   "outputs": [],
   "source": [
    "y_train_pred = model.predict(X_train)\n",
    "y_test_pred = model.predict(X_test)"
   ]
  },
  {
   "cell_type": "code",
   "execution_count": 18,
   "metadata": {},
   "outputs": [
    {
     "name": "stdout",
     "output_type": "stream",
     "text": [
      "Recall score for training set equals: 0.55\n",
      "Precision score for training set equals: 0.69\n",
      "----------------------------------------------\n",
      "              precision    recall  f1-score   support\n",
      "\n",
      "           0       0.87      0.92      0.89     17303\n",
      "           1       0.69      0.55      0.61      5489\n",
      "\n",
      "    accuracy                           0.83     22792\n",
      "   macro avg       0.78      0.73      0.75     22792\n",
      "weighted avg       0.82      0.83      0.82     22792\n",
      "\n",
      "Precision calculated by hand is 0.69\n",
      "Recall  calculated by hand is 0.55\n"
     ]
    }
   ],
   "source": [
    "print(f\"Recall score for training set equals: {recall_score(y_train,y_train_pred):.2f}\")\n",
    "print(f\"Precision score for training set equals: {precision_score(y_train,y_train_pred):.2f}\")\n",
    "print(\"----------------------------------------------\")\n",
    "print(classification_report(y_train,y_train_pred))\n",
    "tp = 0\n",
    "fp = 0\n",
    "fn = 0\n",
    "# list_train_pred = list(y_train_pred.flatten())\n",
    "# list_train = y_train.to_list()\n",
    "# for ytp in zip(list_train_pred,list_train):\n",
    "#     if ytp[0]==ytp[1] and ytp[1]==1:\n",
    "#         tp+=1\n",
    "#     if ytp[0]==1 and ytp[1] == 0:\n",
    "#         fp+=1\n",
    "#     if ytp[0]==0 and ytp[1] == 1:\n",
    "#         fn+=1\n",
    "\n",
    "# for yt, ytp in np.nditer([y_train, y_train_pred]):\n",
    "#     if ytp==yt and ytp == 1:\n",
    "#         tp+=1\n",
    "#     if ytp==1 and yt ==0:\n",
    "#         fp+=1\n",
    "#     if ytp==0 and yt ==1:\n",
    "#         fn+=1\n",
    "\n",
    "for yt, ytp in zip(y_train,y_train_pred):\n",
    "    if ytp==yt and ytp == 1:\n",
    "        tp+=1\n",
    "    if ytp==1 and yt ==0:\n",
    "        fp+=1\n",
    "    if ytp==0 and yt ==1:\n",
    "        fn+=1\n",
    "\n",
    "print(f\"Precision calculated by hand is {tp/(tp+fp):.2f}\")\n",
    "print(f\"Recall  calculated by hand is {tp/(tp+fn):.2f}\")"
   ]
  },
  {
   "cell_type": "code",
   "execution_count": 19,
   "metadata": {},
   "outputs": [
    {
     "name": "stdout",
     "output_type": "stream",
     "text": [
      "Recall score for testing set equals: 0.55\n",
      "Precision score for training set equals: 0.70\n",
      "----------------------------------------------\n",
      "              precision    recall  f1-score   support\n",
      "\n",
      "           0       0.87      0.92      0.89      7417\n",
      "           1       0.70      0.55      0.62      2352\n",
      "\n",
      "    accuracy                           0.83      9769\n",
      "   macro avg       0.78      0.74      0.76      9769\n",
      "weighted avg       0.83      0.83      0.83      9769\n",
      "\n"
     ]
    }
   ],
   "source": [
    "print(f\"Recall score for testing set equals: {recall_score(y_test,y_test_pred):.2f}\")\n",
    "print(f\"Precision score for training set equals: {precision_score(y_test,y_test_pred):.2f}\")\n",
    "print(\"----------------------------------------------\")\n",
    "print(classification_report(y_test,y_test_pred))"
   ]
  },
  {
   "cell_type": "markdown",
   "metadata": {},
   "source": [
    "## Task 6: Applying the model\n",
    "Use your model to check if you will earn above 50,000$ per year. Check both the response from the model (true/false) and the probability that the response will be true. Check using the data about yourself:\n",
    "- right now\n",
    "- two years from now\n",
    "- ten years from now"
   ]
  },
  {
   "cell_type": "code",
   "execution_count": 20,
   "metadata": {},
   "outputs": [
    {
     "name": "stdout",
     "output_type": "stream",
     "text": [
      "Index(['age', 'hours-per-week', 'sex_Female', 'sex_Male', 'education_10th',\n",
      "       'education_11th', 'education_12th', 'education_1st-4th',\n",
      "       'education_5th-6th', 'education_7th-8th', 'education_9th',\n",
      "       'education_Assoc-acdm', 'education_Assoc-voc', 'education_Bachelors',\n",
      "       'education_Doctorate', 'education_HS-grad', 'education_Masters',\n",
      "       'education_Preschool', 'education_Prof-school',\n",
      "       'education_Some-college', 'race_Amer-Indian-Eskimo',\n",
      "       'race_Asian-Pac-Islander', 'race_Black', 'race_Other', 'race_White',\n",
      "       'relationship_Husband', 'relationship_Not-in-family',\n",
      "       'relationship_Other-relative', 'relationship_Own-child',\n",
      "       'relationship_Unmarried', 'relationship_Wife', 'occupation_?',\n",
      "       'occupation_Adm-clerical', 'occupation_Armed-Forces',\n",
      "       'occupation_Craft-repair', 'occupation_Exec-managerial',\n",
      "       'occupation_Farming-fishing', 'occupation_Handlers-cleaners',\n",
      "       'occupation_Machine-op-inspct', 'occupation_Other-service',\n",
      "       'occupation_Priv-house-serv', 'occupation_Prof-specialty',\n",
      "       'occupation_Protective-serv', 'occupation_Sales',\n",
      "       'occupation_Tech-support', 'occupation_Transport-moving'],\n",
      "      dtype='object')\n"
     ]
    }
   ],
   "source": [
    "X_col = X.columns\n",
    "print(X_col)\n",
    "\n",
    "\n",
    "X_me_right_now = [[23, 10, 0,1,0,0,0,0,0,0,0,0,1,0,0,0,0,0,0,0,0,0,0,0,1,0,0,0,0,1,0,0,0,0,0,0,0,0,0,0,0,0,0,0,0,0]]\n",
    "X_me_in_2_years_ = [[25, 40, 0,1,0,0,0,0,0,0,0,0,0,1,0,0,0,0,0,0,0,0,0,0,1,0,0,0,0,1,0,0,0,0,0,0,0,0,0,0,0,0,1,0,0,0]]\n",
    "X_me_in_10_years = [[33, 45, 0,1,0,0,0,0,0,0,0,0,0,1,0,0,0,0,0,0,0,0,0,0,1,1,0,0,0,0,0,0,0,0,0,0,0,0,0,0,0,0,0,0,1,0]]"
   ]
  },
  {
   "cell_type": "code",
   "execution_count": 21,
   "metadata": {},
   "outputs": [],
   "source": [
    "#Zarobki powyzej 50$K obecnie"
   ]
  },
  {
   "cell_type": "code",
   "execution_count": 22,
   "metadata": {},
   "outputs": [],
   "source": [
    "def predict_whether_above50k(my_features):\n",
    "    my_pred = model.predict(my_features)\n",
    "    probability = model.predict_proba(my_features)\n",
    "    earnings = \"będziesz zarabiał powyżej 50 tys $\" if my_pred==1 else \"nie będziesz zarabiał 50 tys $\"\n",
    "    print(f\"{earnings} z prawdopodobienstwem {probability}\")\n",
    "    print(my_pred)"
   ]
  },
  {
   "cell_type": "code",
   "execution_count": 23,
   "metadata": {},
   "outputs": [
    {
     "name": "stdout",
     "output_type": "stream",
     "text": [
      "nie będziesz zarabiał 50 tys $ z prawdopodobienstwem [[0.97713689 0.02286311]]\n",
      "[0]\n"
     ]
    }
   ],
   "source": [
    "predict_whether_above50k(X_me_right_now)"
   ]
  },
  {
   "cell_type": "code",
   "execution_count": 24,
   "metadata": {},
   "outputs": [
    {
     "name": "stdout",
     "output_type": "stream",
     "text": [
      "nie będziesz zarabiał 50 tys $ z prawdopodobienstwem [[0.85447802 0.14552198]]\n",
      "[0]\n"
     ]
    }
   ],
   "source": [
    "predict_whether_above50k(X_me_in_2_years_)"
   ]
  },
  {
   "cell_type": "code",
   "execution_count": 25,
   "outputs": [
    {
     "name": "stdout",
     "output_type": "stream",
     "text": [
      "będziesz zarabiał powyżej 50 tys $ z prawdopodobienstwem [[0.33809223 0.66190777]]\n",
      "[1]\n"
     ]
    }
   ],
   "source": [
    "predict_whether_above50k(X_me_in_10_years)\n"
   ],
   "metadata": {
    "collapsed": false,
    "pycharm": {
     "name": "#%%\n"
    }
   }
  }
 ],
 "metadata": {
  "kernelspec": {
   "name": "machinelearning",
   "language": "python",
   "display_name": "Python (MachineLearning)"
  },
  "language_info": {
   "codemirror_mode": {
    "name": "ipython",
    "version": 3
   },
   "file_extension": ".py",
   "mimetype": "text/x-python",
   "name": "python",
   "nbconvert_exporter": "python",
   "pygments_lexer": "ipython3",
   "version": "3.7.6"
  }
 },
 "nbformat": 4,
 "nbformat_minor": 2
}