{
 "cells": [
  {
   "cell_type": "code",
   "execution_count": 1,
   "metadata": {
    "collapsed": true
   },
   "outputs": [],
   "source": [
    "import pandas as pd\n",
    "#setting output format to 2 decimal places\n",
    "pd.set_option('display.float_format', lambda x: '%.2f' %x)"
   ]
  },
  {
   "cell_type": "code",
   "execution_count": 2,
   "outputs": [
    {
     "data": {
      "text/plain": "   #                       Name Type 1  Type 2  HP  Attack  Defense  Sp. Atk  \\\n0  1                  Bulbasaur  Grass  Poison  45      49       49       65   \n1  2                    Ivysaur  Grass  Poison  60      62       63       80   \n2  3                   Venusaur  Grass  Poison  80      82       83      100   \n3  3      VenusaurMega Venusaur  Grass  Poison  80     100      123      122   \n4  4                 Charmander   Fire     NaN  39      52       43       60   \n5  5                 Charmeleon   Fire     NaN  58      64       58       80   \n6  6                  Charizard   Fire  Flying  78      84       78      109   \n7  6  CharizardMega Charizard X   Fire  Dragon  78     130      111      130   \n8  6  CharizardMega Charizard Y   Fire  Flying  78     104       78      159   \n9  7                   Squirtle  Water     NaN  44      48       65       50   \n\n   Sp. Def  Speed  Generation  Legendary  \n0       65     45           1      False  \n1       80     60           1      False  \n2      100     80           1      False  \n3      120     80           1      False  \n4       50     65           1      False  \n5       65     80           1      False  \n6       85    100           1      False  \n7       85    100           1      False  \n8      115    100           1      False  \n9       64     43           1      False  ",
      "text/html": "<div>\n<style scoped>\n    .dataframe tbody tr th:only-of-type {\n        vertical-align: middle;\n    }\n\n    .dataframe tbody tr th {\n        vertical-align: top;\n    }\n\n    .dataframe thead th {\n        text-align: right;\n    }\n</style>\n<table border=\"1\" class=\"dataframe\">\n  <thead>\n    <tr style=\"text-align: right;\">\n      <th></th>\n      <th>#</th>\n      <th>Name</th>\n      <th>Type 1</th>\n      <th>Type 2</th>\n      <th>HP</th>\n      <th>Attack</th>\n      <th>Defense</th>\n      <th>Sp. Atk</th>\n      <th>Sp. Def</th>\n      <th>Speed</th>\n      <th>Generation</th>\n      <th>Legendary</th>\n    </tr>\n  </thead>\n  <tbody>\n    <tr>\n      <th>0</th>\n      <td>1</td>\n      <td>Bulbasaur</td>\n      <td>Grass</td>\n      <td>Poison</td>\n      <td>45</td>\n      <td>49</td>\n      <td>49</td>\n      <td>65</td>\n      <td>65</td>\n      <td>45</td>\n      <td>1</td>\n      <td>False</td>\n    </tr>\n    <tr>\n      <th>1</th>\n      <td>2</td>\n      <td>Ivysaur</td>\n      <td>Grass</td>\n      <td>Poison</td>\n      <td>60</td>\n      <td>62</td>\n      <td>63</td>\n      <td>80</td>\n      <td>80</td>\n      <td>60</td>\n      <td>1</td>\n      <td>False</td>\n    </tr>\n    <tr>\n      <th>2</th>\n      <td>3</td>\n      <td>Venusaur</td>\n      <td>Grass</td>\n      <td>Poison</td>\n      <td>80</td>\n      <td>82</td>\n      <td>83</td>\n      <td>100</td>\n      <td>100</td>\n      <td>80</td>\n      <td>1</td>\n      <td>False</td>\n    </tr>\n    <tr>\n      <th>3</th>\n      <td>3</td>\n      <td>VenusaurMega Venusaur</td>\n      <td>Grass</td>\n      <td>Poison</td>\n      <td>80</td>\n      <td>100</td>\n      <td>123</td>\n      <td>122</td>\n      <td>120</td>\n      <td>80</td>\n      <td>1</td>\n      <td>False</td>\n    </tr>\n    <tr>\n      <th>4</th>\n      <td>4</td>\n      <td>Charmander</td>\n      <td>Fire</td>\n      <td>NaN</td>\n      <td>39</td>\n      <td>52</td>\n      <td>43</td>\n      <td>60</td>\n      <td>50</td>\n      <td>65</td>\n      <td>1</td>\n      <td>False</td>\n    </tr>\n    <tr>\n      <th>5</th>\n      <td>5</td>\n      <td>Charmeleon</td>\n      <td>Fire</td>\n      <td>NaN</td>\n      <td>58</td>\n      <td>64</td>\n      <td>58</td>\n      <td>80</td>\n      <td>65</td>\n      <td>80</td>\n      <td>1</td>\n      <td>False</td>\n    </tr>\n    <tr>\n      <th>6</th>\n      <td>6</td>\n      <td>Charizard</td>\n      <td>Fire</td>\n      <td>Flying</td>\n      <td>78</td>\n      <td>84</td>\n      <td>78</td>\n      <td>109</td>\n      <td>85</td>\n      <td>100</td>\n      <td>1</td>\n      <td>False</td>\n    </tr>\n    <tr>\n      <th>7</th>\n      <td>6</td>\n      <td>CharizardMega Charizard X</td>\n      <td>Fire</td>\n      <td>Dragon</td>\n      <td>78</td>\n      <td>130</td>\n      <td>111</td>\n      <td>130</td>\n      <td>85</td>\n      <td>100</td>\n      <td>1</td>\n      <td>False</td>\n    </tr>\n    <tr>\n      <th>8</th>\n      <td>6</td>\n      <td>CharizardMega Charizard Y</td>\n      <td>Fire</td>\n      <td>Flying</td>\n      <td>78</td>\n      <td>104</td>\n      <td>78</td>\n      <td>159</td>\n      <td>115</td>\n      <td>100</td>\n      <td>1</td>\n      <td>False</td>\n    </tr>\n    <tr>\n      <th>9</th>\n      <td>7</td>\n      <td>Squirtle</td>\n      <td>Water</td>\n      <td>NaN</td>\n      <td>44</td>\n      <td>48</td>\n      <td>65</td>\n      <td>50</td>\n      <td>64</td>\n      <td>43</td>\n      <td>1</td>\n      <td>False</td>\n    </tr>\n  </tbody>\n</table>\n</div>"
     },
     "execution_count": 2,
     "metadata": {},
     "output_type": "execute_result"
    }
   ],
   "source": [
    "#importing\n",
    "df = pd.read_csv(\"./data/pokemon_data.csv\")\n",
    "#returning n first rows, similar to that is tail\n",
    "df.head(10)"
   ],
   "metadata": {
    "collapsed": false,
    "pycharm": {
     "name": "#%%\n"
    }
   }
  },
  {
   "cell_type": "code",
   "execution_count": 3,
   "outputs": [
    {
     "data": {
      "text/plain": "Index(['#', 'Name', 'Type 1', 'Type 2', 'HP', 'Attack', 'Defense', 'Sp. Atk',\n       'Sp. Def', 'Speed', 'Generation', 'Legendary'],\n      dtype='object')"
     },
     "execution_count": 3,
     "metadata": {},
     "output_type": "execute_result"
    }
   ],
   "source": [
    "#showing column names\n",
    "df.columns\n"
   ],
   "metadata": {
    "collapsed": false,
    "pycharm": {
     "name": "#%%\n"
    }
   }
  },
  {
   "cell_type": "code",
   "execution_count": 4,
   "outputs": [
    {
     "data": {
      "text/plain": "#               0\nName            0\nType 1          0\nType 2        386\nHP              0\nAttack          0\nDefense         0\nSp. Atk         0\nSp. Def         0\nSpeed           0\nGeneration      0\nLegendary       0\ndtype: int64"
     },
     "execution_count": 4,
     "metadata": {},
     "output_type": "execute_result"
    }
   ],
   "source": [
    "#showing columns\n",
    "df[['Name','Type 1','Attack']].head()\n",
    "df.isnull().sum()"
   ],
   "metadata": {
    "collapsed": false,
    "pycharm": {
     "name": "#%%\n"
    }
   }
  },
  {
   "cell_type": "code",
   "execution_count": 5,
   "outputs": [
    {
     "data": {
      "text/plain": "   #                   Name Type 1  Type 2  HP  Attack  Defense  Sp. Atk  \\\n0  1              Bulbasaur  Grass  Poison  45      49       49       65   \n1  2                Ivysaur  Grass  Poison  60      62       63       80   \n2  3               Venusaur  Grass  Poison  80      82       83      100   \n3  3  VenusaurMega Venusaur  Grass  Poison  80     100      123      122   \n4  4             Charmander   Fire     NaN  39      52       43       60   \n\n   Sp. Def  Speed  Generation  Legendary  \n0       65     45           1      False  \n1       80     60           1      False  \n2      100     80           1      False  \n3      120     80           1      False  \n4       50     65           1      False  ",
      "text/html": "<div>\n<style scoped>\n    .dataframe tbody tr th:only-of-type {\n        vertical-align: middle;\n    }\n\n    .dataframe tbody tr th {\n        vertical-align: top;\n    }\n\n    .dataframe thead th {\n        text-align: right;\n    }\n</style>\n<table border=\"1\" class=\"dataframe\">\n  <thead>\n    <tr style=\"text-align: right;\">\n      <th></th>\n      <th>#</th>\n      <th>Name</th>\n      <th>Type 1</th>\n      <th>Type 2</th>\n      <th>HP</th>\n      <th>Attack</th>\n      <th>Defense</th>\n      <th>Sp. Atk</th>\n      <th>Sp. Def</th>\n      <th>Speed</th>\n      <th>Generation</th>\n      <th>Legendary</th>\n    </tr>\n  </thead>\n  <tbody>\n    <tr>\n      <th>0</th>\n      <td>1</td>\n      <td>Bulbasaur</td>\n      <td>Grass</td>\n      <td>Poison</td>\n      <td>45</td>\n      <td>49</td>\n      <td>49</td>\n      <td>65</td>\n      <td>65</td>\n      <td>45</td>\n      <td>1</td>\n      <td>False</td>\n    </tr>\n    <tr>\n      <th>1</th>\n      <td>2</td>\n      <td>Ivysaur</td>\n      <td>Grass</td>\n      <td>Poison</td>\n      <td>60</td>\n      <td>62</td>\n      <td>63</td>\n      <td>80</td>\n      <td>80</td>\n      <td>60</td>\n      <td>1</td>\n      <td>False</td>\n    </tr>\n    <tr>\n      <th>2</th>\n      <td>3</td>\n      <td>Venusaur</td>\n      <td>Grass</td>\n      <td>Poison</td>\n      <td>80</td>\n      <td>82</td>\n      <td>83</td>\n      <td>100</td>\n      <td>100</td>\n      <td>80</td>\n      <td>1</td>\n      <td>False</td>\n    </tr>\n    <tr>\n      <th>3</th>\n      <td>3</td>\n      <td>VenusaurMega Venusaur</td>\n      <td>Grass</td>\n      <td>Poison</td>\n      <td>80</td>\n      <td>100</td>\n      <td>123</td>\n      <td>122</td>\n      <td>120</td>\n      <td>80</td>\n      <td>1</td>\n      <td>False</td>\n    </tr>\n    <tr>\n      <th>4</th>\n      <td>4</td>\n      <td>Charmander</td>\n      <td>Fire</td>\n      <td>NaN</td>\n      <td>39</td>\n      <td>52</td>\n      <td>43</td>\n      <td>60</td>\n      <td>50</td>\n      <td>65</td>\n      <td>1</td>\n      <td>False</td>\n    </tr>\n  </tbody>\n</table>\n</div>"
     },
     "execution_count": 5,
     "metadata": {},
     "output_type": "execute_result"
    }
   ],
   "source": [
    "#showing certain row/rows\n",
    "df.iloc[:5] #similar to that is iloc"
   ],
   "metadata": {
    "collapsed": false,
    "pycharm": {
     "name": "#%%\n"
    }
   }
  },
  {
   "cell_type": "code",
   "execution_count": 6,
   "outputs": [
    {
     "data": {
      "text/plain": "0                Bulbasaur\n1                  Ivysaur\n2                 Venusaur\n3    VenusaurMega Venusaur\n4               Charmander\nName: Name, dtype: object"
     },
     "execution_count": 6,
     "metadata": {},
     "output_type": "execute_result"
    }
   ],
   "source": [
    "#read specific location Row -> Column\n",
    "df.iloc[:5,1]"
   ],
   "metadata": {
    "collapsed": false,
    "pycharm": {
     "name": "#%%\n"
    }
   }
  },
  {
   "cell_type": "code",
   "execution_count": 7,
   "outputs": [
    {
     "data": {
      "text/plain": "     #                   Name Type 1  Type 2  HP  Attack  Defense  Sp. Atk  \\\n0    1              Bulbasaur  Grass  Poison  45      49       49       65   \n1    2                Ivysaur  Grass  Poison  60      62       63       80   \n2    3               Venusaur  Grass  Poison  80      82       83      100   \n3    3  VenusaurMega Venusaur  Grass  Poison  80     100      123      122   \n48  43                 Oddish  Grass  Poison  45      50       55       75   \n49  44                  Gloom  Grass  Poison  60      65       70       85   \n50  45              Vileplume  Grass  Poison  75      80       85      110   \n75  69             Bellsprout  Grass  Poison  50      75       35       70   \n76  70             Weepinbell  Grass  Poison  65      90       50       85   \n77  71             Victreebel  Grass  Poison  80     105       65      100   \n\n    Sp. Def  Speed  Generation  Legendary  \n0        65     45           1      False  \n1        80     60           1      False  \n2       100     80           1      False  \n3       120     80           1      False  \n48       65     30           1      False  \n49       75     40           1      False  \n50       90     50           1      False  \n75       30     40           1      False  \n76       45     55           1      False  \n77       70     70           1      False  ",
      "text/html": "<div>\n<style scoped>\n    .dataframe tbody tr th:only-of-type {\n        vertical-align: middle;\n    }\n\n    .dataframe tbody tr th {\n        vertical-align: top;\n    }\n\n    .dataframe thead th {\n        text-align: right;\n    }\n</style>\n<table border=\"1\" class=\"dataframe\">\n  <thead>\n    <tr style=\"text-align: right;\">\n      <th></th>\n      <th>#</th>\n      <th>Name</th>\n      <th>Type 1</th>\n      <th>Type 2</th>\n      <th>HP</th>\n      <th>Attack</th>\n      <th>Defense</th>\n      <th>Sp. Atk</th>\n      <th>Sp. Def</th>\n      <th>Speed</th>\n      <th>Generation</th>\n      <th>Legendary</th>\n    </tr>\n  </thead>\n  <tbody>\n    <tr>\n      <th>0</th>\n      <td>1</td>\n      <td>Bulbasaur</td>\n      <td>Grass</td>\n      <td>Poison</td>\n      <td>45</td>\n      <td>49</td>\n      <td>49</td>\n      <td>65</td>\n      <td>65</td>\n      <td>45</td>\n      <td>1</td>\n      <td>False</td>\n    </tr>\n    <tr>\n      <th>1</th>\n      <td>2</td>\n      <td>Ivysaur</td>\n      <td>Grass</td>\n      <td>Poison</td>\n      <td>60</td>\n      <td>62</td>\n      <td>63</td>\n      <td>80</td>\n      <td>80</td>\n      <td>60</td>\n      <td>1</td>\n      <td>False</td>\n    </tr>\n    <tr>\n      <th>2</th>\n      <td>3</td>\n      <td>Venusaur</td>\n      <td>Grass</td>\n      <td>Poison</td>\n      <td>80</td>\n      <td>82</td>\n      <td>83</td>\n      <td>100</td>\n      <td>100</td>\n      <td>80</td>\n      <td>1</td>\n      <td>False</td>\n    </tr>\n    <tr>\n      <th>3</th>\n      <td>3</td>\n      <td>VenusaurMega Venusaur</td>\n      <td>Grass</td>\n      <td>Poison</td>\n      <td>80</td>\n      <td>100</td>\n      <td>123</td>\n      <td>122</td>\n      <td>120</td>\n      <td>80</td>\n      <td>1</td>\n      <td>False</td>\n    </tr>\n    <tr>\n      <th>48</th>\n      <td>43</td>\n      <td>Oddish</td>\n      <td>Grass</td>\n      <td>Poison</td>\n      <td>45</td>\n      <td>50</td>\n      <td>55</td>\n      <td>75</td>\n      <td>65</td>\n      <td>30</td>\n      <td>1</td>\n      <td>False</td>\n    </tr>\n    <tr>\n      <th>49</th>\n      <td>44</td>\n      <td>Gloom</td>\n      <td>Grass</td>\n      <td>Poison</td>\n      <td>60</td>\n      <td>65</td>\n      <td>70</td>\n      <td>85</td>\n      <td>75</td>\n      <td>40</td>\n      <td>1</td>\n      <td>False</td>\n    </tr>\n    <tr>\n      <th>50</th>\n      <td>45</td>\n      <td>Vileplume</td>\n      <td>Grass</td>\n      <td>Poison</td>\n      <td>75</td>\n      <td>80</td>\n      <td>85</td>\n      <td>110</td>\n      <td>90</td>\n      <td>50</td>\n      <td>1</td>\n      <td>False</td>\n    </tr>\n    <tr>\n      <th>75</th>\n      <td>69</td>\n      <td>Bellsprout</td>\n      <td>Grass</td>\n      <td>Poison</td>\n      <td>50</td>\n      <td>75</td>\n      <td>35</td>\n      <td>70</td>\n      <td>30</td>\n      <td>40</td>\n      <td>1</td>\n      <td>False</td>\n    </tr>\n    <tr>\n      <th>76</th>\n      <td>70</td>\n      <td>Weepinbell</td>\n      <td>Grass</td>\n      <td>Poison</td>\n      <td>65</td>\n      <td>90</td>\n      <td>50</td>\n      <td>85</td>\n      <td>45</td>\n      <td>55</td>\n      <td>1</td>\n      <td>False</td>\n    </tr>\n    <tr>\n      <th>77</th>\n      <td>71</td>\n      <td>Victreebel</td>\n      <td>Grass</td>\n      <td>Poison</td>\n      <td>80</td>\n      <td>105</td>\n      <td>65</td>\n      <td>100</td>\n      <td>70</td>\n      <td>70</td>\n      <td>1</td>\n      <td>False</td>\n    </tr>\n  </tbody>\n</table>\n</div>"
     },
     "execution_count": 7,
     "metadata": {},
     "output_type": "execute_result"
    }
   ],
   "source": [
    "#non integer condiiton\n",
    "df.loc[df['Type 1'] == \"Grass\"][:10]"
   ],
   "metadata": {
    "collapsed": false,
    "pycharm": {
     "name": "#%%\n"
    }
   }
  },
  {
   "cell_type": "code",
   "execution_count": 8,
   "outputs": [
    {
     "data": {
      "text/plain": "           #     HP  Attack  Defense  Sp. Atk  Sp. Def  Speed  Generation\ncount 800.00 800.00  800.00   800.00   800.00   800.00 800.00      800.00\nmean  362.81  69.26   79.00    73.84    72.82    71.90  68.28        3.32\nstd   208.34  25.53   32.46    31.18    32.72    27.83  29.06        1.66\nmin     1.00   1.00    5.00     5.00    10.00    20.00   5.00        1.00\n25%   184.75  50.00   55.00    50.00    49.75    50.00  45.00        2.00\n50%   364.50  65.00   75.00    70.00    65.00    70.00  65.00        3.00\n75%   539.25  80.00  100.00    90.00    95.00    90.00  90.00        5.00\nmax   721.00 255.00  190.00   230.00   194.00   230.00 180.00        6.00",
      "text/html": "<div>\n<style scoped>\n    .dataframe tbody tr th:only-of-type {\n        vertical-align: middle;\n    }\n\n    .dataframe tbody tr th {\n        vertical-align: top;\n    }\n\n    .dataframe thead th {\n        text-align: right;\n    }\n</style>\n<table border=\"1\" class=\"dataframe\">\n  <thead>\n    <tr style=\"text-align: right;\">\n      <th></th>\n      <th>#</th>\n      <th>HP</th>\n      <th>Attack</th>\n      <th>Defense</th>\n      <th>Sp. Atk</th>\n      <th>Sp. Def</th>\n      <th>Speed</th>\n      <th>Generation</th>\n    </tr>\n  </thead>\n  <tbody>\n    <tr>\n      <th>count</th>\n      <td>800.00</td>\n      <td>800.00</td>\n      <td>800.00</td>\n      <td>800.00</td>\n      <td>800.00</td>\n      <td>800.00</td>\n      <td>800.00</td>\n      <td>800.00</td>\n    </tr>\n    <tr>\n      <th>mean</th>\n      <td>362.81</td>\n      <td>69.26</td>\n      <td>79.00</td>\n      <td>73.84</td>\n      <td>72.82</td>\n      <td>71.90</td>\n      <td>68.28</td>\n      <td>3.32</td>\n    </tr>\n    <tr>\n      <th>std</th>\n      <td>208.34</td>\n      <td>25.53</td>\n      <td>32.46</td>\n      <td>31.18</td>\n      <td>32.72</td>\n      <td>27.83</td>\n      <td>29.06</td>\n      <td>1.66</td>\n    </tr>\n    <tr>\n      <th>min</th>\n      <td>1.00</td>\n      <td>1.00</td>\n      <td>5.00</td>\n      <td>5.00</td>\n      <td>10.00</td>\n      <td>20.00</td>\n      <td>5.00</td>\n      <td>1.00</td>\n    </tr>\n    <tr>\n      <th>25%</th>\n      <td>184.75</td>\n      <td>50.00</td>\n      <td>55.00</td>\n      <td>50.00</td>\n      <td>49.75</td>\n      <td>50.00</td>\n      <td>45.00</td>\n      <td>2.00</td>\n    </tr>\n    <tr>\n      <th>50%</th>\n      <td>364.50</td>\n      <td>65.00</td>\n      <td>75.00</td>\n      <td>70.00</td>\n      <td>65.00</td>\n      <td>70.00</td>\n      <td>65.00</td>\n      <td>3.00</td>\n    </tr>\n    <tr>\n      <th>75%</th>\n      <td>539.25</td>\n      <td>80.00</td>\n      <td>100.00</td>\n      <td>90.00</td>\n      <td>95.00</td>\n      <td>90.00</td>\n      <td>90.00</td>\n      <td>5.00</td>\n    </tr>\n    <tr>\n      <th>max</th>\n      <td>721.00</td>\n      <td>255.00</td>\n      <td>190.00</td>\n      <td>230.00</td>\n      <td>194.00</td>\n      <td>230.00</td>\n      <td>180.00</td>\n      <td>6.00</td>\n    </tr>\n  </tbody>\n</table>\n</div>"
     },
     "execution_count": 8,
     "metadata": {},
     "output_type": "execute_result"
    }
   ],
   "source": [
    "#statistical description of data\n",
    "df.describe()"
   ],
   "metadata": {
    "collapsed": false,
    "pycharm": {
     "name": "#%%\n"
    }
   }
  },
  {
   "cell_type": "code",
   "execution_count": 9,
   "outputs": [
    {
     "data": {
      "text/plain": "       #                     Name Type 1    Type 2  HP  Attack  Defense  \\\n520  469                  Yanmega    Bug    Flying  86      76       86   \n698  637                Volcarona    Bug      Fire  85      60       65   \n231  214                Heracross    Bug  Fighting  80     125       75   \n232  214  HeracrossMega Heracross    Bug  Fighting  80     185      115   \n678  617                 Accelgor    Bug       NaN  80      70       40   \n..   ...                      ...    ...       ...  ..     ...      ...   \n106   98                   Krabby  Water       NaN  30     105       90   \n125  116                   Horsea  Water       NaN  30      40       70   \n129  120                   Staryu  Water       NaN  30      45       55   \n139  129                 Magikarp  Water       NaN  20      10       55   \n381  349                   Feebas  Water       NaN  20      15       20   \n\n     Sp. Atk  Sp. Def  Speed  Generation  Legendary  \n520      116       56     95           4      False  \n698      135      105    100           5      False  \n231       40       95     85           2      False  \n232       40      105     75           2      False  \n678      100       60    145           5      False  \n..       ...      ...    ...         ...        ...  \n106       25       25     50           1      False  \n125       70       25     60           1      False  \n129       70       55     85           1      False  \n139       15       20     80           1      False  \n381       10       55     80           3      False  \n\n[800 rows x 12 columns]",
      "text/html": "<div>\n<style scoped>\n    .dataframe tbody tr th:only-of-type {\n        vertical-align: middle;\n    }\n\n    .dataframe tbody tr th {\n        vertical-align: top;\n    }\n\n    .dataframe thead th {\n        text-align: right;\n    }\n</style>\n<table border=\"1\" class=\"dataframe\">\n  <thead>\n    <tr style=\"text-align: right;\">\n      <th></th>\n      <th>#</th>\n      <th>Name</th>\n      <th>Type 1</th>\n      <th>Type 2</th>\n      <th>HP</th>\n      <th>Attack</th>\n      <th>Defense</th>\n      <th>Sp. Atk</th>\n      <th>Sp. Def</th>\n      <th>Speed</th>\n      <th>Generation</th>\n      <th>Legendary</th>\n    </tr>\n  </thead>\n  <tbody>\n    <tr>\n      <th>520</th>\n      <td>469</td>\n      <td>Yanmega</td>\n      <td>Bug</td>\n      <td>Flying</td>\n      <td>86</td>\n      <td>76</td>\n      <td>86</td>\n      <td>116</td>\n      <td>56</td>\n      <td>95</td>\n      <td>4</td>\n      <td>False</td>\n    </tr>\n    <tr>\n      <th>698</th>\n      <td>637</td>\n      <td>Volcarona</td>\n      <td>Bug</td>\n      <td>Fire</td>\n      <td>85</td>\n      <td>60</td>\n      <td>65</td>\n      <td>135</td>\n      <td>105</td>\n      <td>100</td>\n      <td>5</td>\n      <td>False</td>\n    </tr>\n    <tr>\n      <th>231</th>\n      <td>214</td>\n      <td>Heracross</td>\n      <td>Bug</td>\n      <td>Fighting</td>\n      <td>80</td>\n      <td>125</td>\n      <td>75</td>\n      <td>40</td>\n      <td>95</td>\n      <td>85</td>\n      <td>2</td>\n      <td>False</td>\n    </tr>\n    <tr>\n      <th>232</th>\n      <td>214</td>\n      <td>HeracrossMega Heracross</td>\n      <td>Bug</td>\n      <td>Fighting</td>\n      <td>80</td>\n      <td>185</td>\n      <td>115</td>\n      <td>40</td>\n      <td>105</td>\n      <td>75</td>\n      <td>2</td>\n      <td>False</td>\n    </tr>\n    <tr>\n      <th>678</th>\n      <td>617</td>\n      <td>Accelgor</td>\n      <td>Bug</td>\n      <td>NaN</td>\n      <td>80</td>\n      <td>70</td>\n      <td>40</td>\n      <td>100</td>\n      <td>60</td>\n      <td>145</td>\n      <td>5</td>\n      <td>False</td>\n    </tr>\n    <tr>\n      <th>...</th>\n      <td>...</td>\n      <td>...</td>\n      <td>...</td>\n      <td>...</td>\n      <td>...</td>\n      <td>...</td>\n      <td>...</td>\n      <td>...</td>\n      <td>...</td>\n      <td>...</td>\n      <td>...</td>\n      <td>...</td>\n    </tr>\n    <tr>\n      <th>106</th>\n      <td>98</td>\n      <td>Krabby</td>\n      <td>Water</td>\n      <td>NaN</td>\n      <td>30</td>\n      <td>105</td>\n      <td>90</td>\n      <td>25</td>\n      <td>25</td>\n      <td>50</td>\n      <td>1</td>\n      <td>False</td>\n    </tr>\n    <tr>\n      <th>125</th>\n      <td>116</td>\n      <td>Horsea</td>\n      <td>Water</td>\n      <td>NaN</td>\n      <td>30</td>\n      <td>40</td>\n      <td>70</td>\n      <td>70</td>\n      <td>25</td>\n      <td>60</td>\n      <td>1</td>\n      <td>False</td>\n    </tr>\n    <tr>\n      <th>129</th>\n      <td>120</td>\n      <td>Staryu</td>\n      <td>Water</td>\n      <td>NaN</td>\n      <td>30</td>\n      <td>45</td>\n      <td>55</td>\n      <td>70</td>\n      <td>55</td>\n      <td>85</td>\n      <td>1</td>\n      <td>False</td>\n    </tr>\n    <tr>\n      <th>139</th>\n      <td>129</td>\n      <td>Magikarp</td>\n      <td>Water</td>\n      <td>NaN</td>\n      <td>20</td>\n      <td>10</td>\n      <td>55</td>\n      <td>15</td>\n      <td>20</td>\n      <td>80</td>\n      <td>1</td>\n      <td>False</td>\n    </tr>\n    <tr>\n      <th>381</th>\n      <td>349</td>\n      <td>Feebas</td>\n      <td>Water</td>\n      <td>NaN</td>\n      <td>20</td>\n      <td>15</td>\n      <td>20</td>\n      <td>10</td>\n      <td>55</td>\n      <td>80</td>\n      <td>3</td>\n      <td>False</td>\n    </tr>\n  </tbody>\n</table>\n<p>800 rows × 12 columns</p>\n</div>"
     },
     "execution_count": 9,
     "metadata": {},
     "output_type": "execute_result"
    }
   ],
   "source": [
    "#present data sorted by certain column\n",
    "df.sort_values('Name') # if descending, set parameter asceding to false\n",
    "df.sort_values(['Type 1', 'HP'], ascending=[1,0])\n",
    "\n",
    "\n"
   ],
   "metadata": {
    "collapsed": false,
    "pycharm": {
     "name": "#%%\n"
    }
   }
  },
  {
   "cell_type": "code",
   "execution_count": 11,
   "outputs": [
    {
     "data": {
      "text/plain": "       #                   Name   Type 1  Type 2  HP  Attack  Defense  \\\n0      1              Bulbasaur    Grass  Poison  45      49       49   \n1      2                Ivysaur    Grass  Poison  60      62       63   \n2      3               Venusaur    Grass  Poison  80      82       83   \n3      3  VenusaurMega Venusaur    Grass  Poison  80     100      123   \n4      4             Charmander     Fire     NaN  39      52       43   \n..   ...                    ...      ...     ...  ..     ...      ...   \n795  719                Diancie     Rock   Fairy  50     100      150   \n796  719    DiancieMega Diancie     Rock   Fairy  50     160      110   \n797  720    HoopaHoopa Confined  Psychic   Ghost  80     110       60   \n798  720     HoopaHoopa Unbound  Psychic    Dark  80     160       60   \n799  721              Volcanion     Fire   Water  80     110      120   \n\n     Sp. Atk  Sp. Def  Speed  Generation  Legendary  Total  \n0         65       65     45           1      False    318  \n1         80       80     60           1      False    405  \n2        100      100     80           1      False    525  \n3        122      120     80           1      False    625  \n4         60       50     65           1      False    309  \n..       ...      ...    ...         ...        ...    ...  \n795      100      150     50           6       True    600  \n796      160      110    110           6       True    700  \n797      150      130     70           6       True    600  \n798      170      130     80           6       True    680  \n799      130       90     70           6       True    600  \n\n[800 rows x 13 columns]",
      "text/html": "<div>\n<style scoped>\n    .dataframe tbody tr th:only-of-type {\n        vertical-align: middle;\n    }\n\n    .dataframe tbody tr th {\n        vertical-align: top;\n    }\n\n    .dataframe thead th {\n        text-align: right;\n    }\n</style>\n<table border=\"1\" class=\"dataframe\">\n  <thead>\n    <tr style=\"text-align: right;\">\n      <th></th>\n      <th>#</th>\n      <th>Name</th>\n      <th>Type 1</th>\n      <th>Type 2</th>\n      <th>HP</th>\n      <th>Attack</th>\n      <th>Defense</th>\n      <th>Sp. Atk</th>\n      <th>Sp. Def</th>\n      <th>Speed</th>\n      <th>Generation</th>\n      <th>Legendary</th>\n      <th>Total</th>\n    </tr>\n  </thead>\n  <tbody>\n    <tr>\n      <th>0</th>\n      <td>1</td>\n      <td>Bulbasaur</td>\n      <td>Grass</td>\n      <td>Poison</td>\n      <td>45</td>\n      <td>49</td>\n      <td>49</td>\n      <td>65</td>\n      <td>65</td>\n      <td>45</td>\n      <td>1</td>\n      <td>False</td>\n      <td>318</td>\n    </tr>\n    <tr>\n      <th>1</th>\n      <td>2</td>\n      <td>Ivysaur</td>\n      <td>Grass</td>\n      <td>Poison</td>\n      <td>60</td>\n      <td>62</td>\n      <td>63</td>\n      <td>80</td>\n      <td>80</td>\n      <td>60</td>\n      <td>1</td>\n      <td>False</td>\n      <td>405</td>\n    </tr>\n    <tr>\n      <th>2</th>\n      <td>3</td>\n      <td>Venusaur</td>\n      <td>Grass</td>\n      <td>Poison</td>\n      <td>80</td>\n      <td>82</td>\n      <td>83</td>\n      <td>100</td>\n      <td>100</td>\n      <td>80</td>\n      <td>1</td>\n      <td>False</td>\n      <td>525</td>\n    </tr>\n    <tr>\n      <th>3</th>\n      <td>3</td>\n      <td>VenusaurMega Venusaur</td>\n      <td>Grass</td>\n      <td>Poison</td>\n      <td>80</td>\n      <td>100</td>\n      <td>123</td>\n      <td>122</td>\n      <td>120</td>\n      <td>80</td>\n      <td>1</td>\n      <td>False</td>\n      <td>625</td>\n    </tr>\n    <tr>\n      <th>4</th>\n      <td>4</td>\n      <td>Charmander</td>\n      <td>Fire</td>\n      <td>NaN</td>\n      <td>39</td>\n      <td>52</td>\n      <td>43</td>\n      <td>60</td>\n      <td>50</td>\n      <td>65</td>\n      <td>1</td>\n      <td>False</td>\n      <td>309</td>\n    </tr>\n    <tr>\n      <th>...</th>\n      <td>...</td>\n      <td>...</td>\n      <td>...</td>\n      <td>...</td>\n      <td>...</td>\n      <td>...</td>\n      <td>...</td>\n      <td>...</td>\n      <td>...</td>\n      <td>...</td>\n      <td>...</td>\n      <td>...</td>\n      <td>...</td>\n    </tr>\n    <tr>\n      <th>795</th>\n      <td>719</td>\n      <td>Diancie</td>\n      <td>Rock</td>\n      <td>Fairy</td>\n      <td>50</td>\n      <td>100</td>\n      <td>150</td>\n      <td>100</td>\n      <td>150</td>\n      <td>50</td>\n      <td>6</td>\n      <td>True</td>\n      <td>600</td>\n    </tr>\n    <tr>\n      <th>796</th>\n      <td>719</td>\n      <td>DiancieMega Diancie</td>\n      <td>Rock</td>\n      <td>Fairy</td>\n      <td>50</td>\n      <td>160</td>\n      <td>110</td>\n      <td>160</td>\n      <td>110</td>\n      <td>110</td>\n      <td>6</td>\n      <td>True</td>\n      <td>700</td>\n    </tr>\n    <tr>\n      <th>797</th>\n      <td>720</td>\n      <td>HoopaHoopa Confined</td>\n      <td>Psychic</td>\n      <td>Ghost</td>\n      <td>80</td>\n      <td>110</td>\n      <td>60</td>\n      <td>150</td>\n      <td>130</td>\n      <td>70</td>\n      <td>6</td>\n      <td>True</td>\n      <td>600</td>\n    </tr>\n    <tr>\n      <th>798</th>\n      <td>720</td>\n      <td>HoopaHoopa Unbound</td>\n      <td>Psychic</td>\n      <td>Dark</td>\n      <td>80</td>\n      <td>160</td>\n      <td>60</td>\n      <td>170</td>\n      <td>130</td>\n      <td>80</td>\n      <td>6</td>\n      <td>True</td>\n      <td>680</td>\n    </tr>\n    <tr>\n      <th>799</th>\n      <td>721</td>\n      <td>Volcanion</td>\n      <td>Fire</td>\n      <td>Water</td>\n      <td>80</td>\n      <td>110</td>\n      <td>120</td>\n      <td>130</td>\n      <td>90</td>\n      <td>70</td>\n      <td>6</td>\n      <td>True</td>\n      <td>600</td>\n    </tr>\n  </tbody>\n</table>\n<p>800 rows × 13 columns</p>\n</div>"
     },
     "execution_count": 11,
     "metadata": {},
     "output_type": "execute_result"
    }
   ],
   "source": [
    "#adding and removing columns\n",
    "#df['Total'] = df['HP'] + df['Attack'] + df['Defense'] + df['Sp. Atk'] + df['Sp. Def'] + df['Speed']\n",
    "\n",
    "#df = df.drop(columns=['Total'])\n",
    "\n",
    "df['Total'] = df.iloc[:, 4:10].sum(axis=1)\n",
    "df"
   ],
   "metadata": {
    "collapsed": false,
    "pycharm": {
     "name": "#%%\n"
    }
   }
  },
  {
   "cell_type": "code",
   "execution_count": 20,
   "outputs": [
    {
     "data": {
      "text/plain": "126.37037037037037"
     },
     "execution_count": 20,
     "metadata": {},
     "output_type": "execute_result"
    }
   ],
   "source": [
    "#filtrowanie danych\n",
    "\n",
    "new_df = df.loc[(df['Type 1'] == 'Grass') & (df['Type 2'] == 'Poison') & (df['HP'] > 70)]\n",
    "\n",
    "\n",
    "new_df.reset_index(drop=True, inplace=True)\n",
    "new_df\n",
    "df[df['Type 1'] == \"Steel\"][\"Defense\"].mean()"
   ],
   "metadata": {
    "collapsed": false,
    "pycharm": {
     "name": "#%%\n"
    }
   }
  },
  {
   "cell_type": "code",
   "execution_count": 24,
   "outputs": [
    {
     "data": {
      "text/plain": "              #  Attack  Defense  Generation    HP  Legendary  Name  Sp. Atk  \\\nType 1                                                                         \nDragon   474.38  112.12    86.38        3.88 83.31       0.38   nan    96.84   \nFighting 363.85   96.78    65.93        3.37 69.85       0.00   nan    53.11   \nGround   356.28   95.75    84.84        3.16 73.78       0.12   nan    56.47   \nRock     392.73   92.86   100.80        3.45 65.36       0.09   nan    63.34   \nSteel    442.85   92.70   126.37        3.85 65.22       0.15   nan    67.52   \nDark     461.35   88.39    70.23        4.03 66.81       0.06   nan    74.65   \nFire     327.40   84.77    67.77        3.21 69.90       0.10   nan    88.98   \nFlying   677.75   78.75    66.25        5.50 70.75       0.50   nan    94.25   \nPoison   251.79   74.68    68.82        2.54 67.25       0.00   nan    60.43   \nWater    303.09   74.15    72.95        2.86 72.06       0.04   nan    74.81   \nGhost    486.50   73.78    81.19        4.19 64.44       0.06   nan    79.34   \nNormal   319.17   73.47    59.85        3.05 77.28       0.02   nan    55.82   \nGrass    344.87   73.21    70.80        3.36 67.27       0.04   nan    77.50   \nIce      423.54   72.75    71.42        3.54 72.00       0.08   nan    77.54   \nPsychic  380.81   71.46    67.68        3.39 70.63       0.25   nan    98.40   \nBug      334.49   70.97    70.72        3.22 56.88       0.00   nan    53.87   \nElectric 363.50   69.09    66.30        3.27 59.80       0.09   nan    90.02   \nFairy    449.53   61.53    65.71        4.12 74.12       0.06   nan    78.53   \n\n          Sp. Def  Speed  Total  Type 2  \nType 1                                   \nDragon      88.84  83.03 550.53     nan  \nFighting    64.70  66.07 416.44     nan  \nGround      62.75  63.91 437.50     nan  \nRock        75.48  55.91 453.75     nan  \nSteel       80.63  55.26 487.70     nan  \nDark        69.52  76.16 445.74     nan  \nFire        72.21  74.44 458.08     nan  \nFlying      72.50 102.50 485.00     nan  \nPoison      64.39  63.57 399.14     nan  \nWater       70.52  65.96 430.46     nan  \nGhost       76.47  64.34 439.56     nan  \nNormal      63.72  71.55 401.68     nan  \nGrass       70.43  61.93 421.14     nan  \nIce         76.29  63.46 433.46     nan  \nPsychic     86.28  81.49 475.95     nan  \nBug         64.80  61.68 378.93     nan  \nElectric    73.70  84.50 443.41     nan  \nFairy       84.71  48.59 413.18     nan  ",
      "text/html": "<div>\n<style scoped>\n    .dataframe tbody tr th:only-of-type {\n        vertical-align: middle;\n    }\n\n    .dataframe tbody tr th {\n        vertical-align: top;\n    }\n\n    .dataframe thead th {\n        text-align: right;\n    }\n</style>\n<table border=\"1\" class=\"dataframe\">\n  <thead>\n    <tr style=\"text-align: right;\">\n      <th></th>\n      <th>#</th>\n      <th>Attack</th>\n      <th>Defense</th>\n      <th>Generation</th>\n      <th>HP</th>\n      <th>Legendary</th>\n      <th>Name</th>\n      <th>Sp. Atk</th>\n      <th>Sp. Def</th>\n      <th>Speed</th>\n      <th>Total</th>\n      <th>Type 2</th>\n    </tr>\n    <tr>\n      <th>Type 1</th>\n      <th></th>\n      <th></th>\n      <th></th>\n      <th></th>\n      <th></th>\n      <th></th>\n      <th></th>\n      <th></th>\n      <th></th>\n      <th></th>\n      <th></th>\n      <th></th>\n    </tr>\n  </thead>\n  <tbody>\n    <tr>\n      <th>Dragon</th>\n      <td>474.38</td>\n      <td>112.12</td>\n      <td>86.38</td>\n      <td>3.88</td>\n      <td>83.31</td>\n      <td>0.38</td>\n      <td>nan</td>\n      <td>96.84</td>\n      <td>88.84</td>\n      <td>83.03</td>\n      <td>550.53</td>\n      <td>nan</td>\n    </tr>\n    <tr>\n      <th>Fighting</th>\n      <td>363.85</td>\n      <td>96.78</td>\n      <td>65.93</td>\n      <td>3.37</td>\n      <td>69.85</td>\n      <td>0.00</td>\n      <td>nan</td>\n      <td>53.11</td>\n      <td>64.70</td>\n      <td>66.07</td>\n      <td>416.44</td>\n      <td>nan</td>\n    </tr>\n    <tr>\n      <th>Ground</th>\n      <td>356.28</td>\n      <td>95.75</td>\n      <td>84.84</td>\n      <td>3.16</td>\n      <td>73.78</td>\n      <td>0.12</td>\n      <td>nan</td>\n      <td>56.47</td>\n      <td>62.75</td>\n      <td>63.91</td>\n      <td>437.50</td>\n      <td>nan</td>\n    </tr>\n    <tr>\n      <th>Rock</th>\n      <td>392.73</td>\n      <td>92.86</td>\n      <td>100.80</td>\n      <td>3.45</td>\n      <td>65.36</td>\n      <td>0.09</td>\n      <td>nan</td>\n      <td>63.34</td>\n      <td>75.48</td>\n      <td>55.91</td>\n      <td>453.75</td>\n      <td>nan</td>\n    </tr>\n    <tr>\n      <th>Steel</th>\n      <td>442.85</td>\n      <td>92.70</td>\n      <td>126.37</td>\n      <td>3.85</td>\n      <td>65.22</td>\n      <td>0.15</td>\n      <td>nan</td>\n      <td>67.52</td>\n      <td>80.63</td>\n      <td>55.26</td>\n      <td>487.70</td>\n      <td>nan</td>\n    </tr>\n    <tr>\n      <th>Dark</th>\n      <td>461.35</td>\n      <td>88.39</td>\n      <td>70.23</td>\n      <td>4.03</td>\n      <td>66.81</td>\n      <td>0.06</td>\n      <td>nan</td>\n      <td>74.65</td>\n      <td>69.52</td>\n      <td>76.16</td>\n      <td>445.74</td>\n      <td>nan</td>\n    </tr>\n    <tr>\n      <th>Fire</th>\n      <td>327.40</td>\n      <td>84.77</td>\n      <td>67.77</td>\n      <td>3.21</td>\n      <td>69.90</td>\n      <td>0.10</td>\n      <td>nan</td>\n      <td>88.98</td>\n      <td>72.21</td>\n      <td>74.44</td>\n      <td>458.08</td>\n      <td>nan</td>\n    </tr>\n    <tr>\n      <th>Flying</th>\n      <td>677.75</td>\n      <td>78.75</td>\n      <td>66.25</td>\n      <td>5.50</td>\n      <td>70.75</td>\n      <td>0.50</td>\n      <td>nan</td>\n      <td>94.25</td>\n      <td>72.50</td>\n      <td>102.50</td>\n      <td>485.00</td>\n      <td>nan</td>\n    </tr>\n    <tr>\n      <th>Poison</th>\n      <td>251.79</td>\n      <td>74.68</td>\n      <td>68.82</td>\n      <td>2.54</td>\n      <td>67.25</td>\n      <td>0.00</td>\n      <td>nan</td>\n      <td>60.43</td>\n      <td>64.39</td>\n      <td>63.57</td>\n      <td>399.14</td>\n      <td>nan</td>\n    </tr>\n    <tr>\n      <th>Water</th>\n      <td>303.09</td>\n      <td>74.15</td>\n      <td>72.95</td>\n      <td>2.86</td>\n      <td>72.06</td>\n      <td>0.04</td>\n      <td>nan</td>\n      <td>74.81</td>\n      <td>70.52</td>\n      <td>65.96</td>\n      <td>430.46</td>\n      <td>nan</td>\n    </tr>\n    <tr>\n      <th>Ghost</th>\n      <td>486.50</td>\n      <td>73.78</td>\n      <td>81.19</td>\n      <td>4.19</td>\n      <td>64.44</td>\n      <td>0.06</td>\n      <td>nan</td>\n      <td>79.34</td>\n      <td>76.47</td>\n      <td>64.34</td>\n      <td>439.56</td>\n      <td>nan</td>\n    </tr>\n    <tr>\n      <th>Normal</th>\n      <td>319.17</td>\n      <td>73.47</td>\n      <td>59.85</td>\n      <td>3.05</td>\n      <td>77.28</td>\n      <td>0.02</td>\n      <td>nan</td>\n      <td>55.82</td>\n      <td>63.72</td>\n      <td>71.55</td>\n      <td>401.68</td>\n      <td>nan</td>\n    </tr>\n    <tr>\n      <th>Grass</th>\n      <td>344.87</td>\n      <td>73.21</td>\n      <td>70.80</td>\n      <td>3.36</td>\n      <td>67.27</td>\n      <td>0.04</td>\n      <td>nan</td>\n      <td>77.50</td>\n      <td>70.43</td>\n      <td>61.93</td>\n      <td>421.14</td>\n      <td>nan</td>\n    </tr>\n    <tr>\n      <th>Ice</th>\n      <td>423.54</td>\n      <td>72.75</td>\n      <td>71.42</td>\n      <td>3.54</td>\n      <td>72.00</td>\n      <td>0.08</td>\n      <td>nan</td>\n      <td>77.54</td>\n      <td>76.29</td>\n      <td>63.46</td>\n      <td>433.46</td>\n      <td>nan</td>\n    </tr>\n    <tr>\n      <th>Psychic</th>\n      <td>380.81</td>\n      <td>71.46</td>\n      <td>67.68</td>\n      <td>3.39</td>\n      <td>70.63</td>\n      <td>0.25</td>\n      <td>nan</td>\n      <td>98.40</td>\n      <td>86.28</td>\n      <td>81.49</td>\n      <td>475.95</td>\n      <td>nan</td>\n    </tr>\n    <tr>\n      <th>Bug</th>\n      <td>334.49</td>\n      <td>70.97</td>\n      <td>70.72</td>\n      <td>3.22</td>\n      <td>56.88</td>\n      <td>0.00</td>\n      <td>nan</td>\n      <td>53.87</td>\n      <td>64.80</td>\n      <td>61.68</td>\n      <td>378.93</td>\n      <td>nan</td>\n    </tr>\n    <tr>\n      <th>Electric</th>\n      <td>363.50</td>\n      <td>69.09</td>\n      <td>66.30</td>\n      <td>3.27</td>\n      <td>59.80</td>\n      <td>0.09</td>\n      <td>nan</td>\n      <td>90.02</td>\n      <td>73.70</td>\n      <td>84.50</td>\n      <td>443.41</td>\n      <td>nan</td>\n    </tr>\n    <tr>\n      <th>Fairy</th>\n      <td>449.53</td>\n      <td>61.53</td>\n      <td>65.71</td>\n      <td>4.12</td>\n      <td>74.12</td>\n      <td>0.06</td>\n      <td>nan</td>\n      <td>78.53</td>\n      <td>84.71</td>\n      <td>48.59</td>\n      <td>413.18</td>\n      <td>nan</td>\n    </tr>\n  </tbody>\n</table>\n</div>"
     },
     "execution_count": 24,
     "metadata": {},
     "output_type": "execute_result"
    }
   ],
   "source": [
    "(df.groupby([\"Type 1\"]).sum()/df.groupby([\"Type 1\"]).count()).sort_values(\"Attack\", ascending=False)\n",
    "#example above is equivalent to .mean function"
   ],
   "metadata": {
    "collapsed": false,
    "pycharm": {
     "name": "#%%\n"
    }
   }
  }
 ],
 "metadata": {
  "kernelspec": {
   "name": "machinelearning",
   "language": "python",
   "display_name": "Python (MachineLearning)"
  },
  "language_info": {
   "codemirror_mode": {
    "name": "ipython",
    "version": 2
   },
   "file_extension": ".py",
   "mimetype": "text/x-python",
   "name": "python",
   "nbconvert_exporter": "python",
   "pygments_lexer": "ipython2",
   "version": "2.7.6"
  }
 },
 "nbformat": 4,
 "nbformat_minor": 0
}